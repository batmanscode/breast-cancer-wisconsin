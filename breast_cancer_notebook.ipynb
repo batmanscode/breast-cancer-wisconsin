{
  "nbformat": 4,
  "nbformat_minor": 0,
  "metadata": {
    "colab": {
      "name": "breast_cancer_notebook.ipynb",
      "provenance": [],
      "authorship_tag": "ABX9TyNC5+tAUihzKnDkDIu5vCIw",
      "include_colab_link": true
    },
    "kernelspec": {
      "name": "python3",
      "display_name": "Python 3"
    },
    "widgets": {
      "application/vnd.jupyter.widget-state+json": {
        "ca0f13d640574ec59f6c76f2f75d29b6": {
          "model_module": "@jupyter-widgets/controls",
          "model_name": "HBoxModel",
          "state": {
            "_view_name": "HBoxView",
            "_dom_classes": [],
            "_model_name": "HBoxModel",
            "_view_module": "@jupyter-widgets/controls",
            "_model_module_version": "1.5.0",
            "_view_count": null,
            "_view_module_version": "1.5.0",
            "box_style": "",
            "layout": "IPY_MODEL_f7d700814708475bb950535822f8d418",
            "_model_module": "@jupyter-widgets/controls",
            "children": [
              "IPY_MODEL_2961f0a9226a4027be005b0d6e2e89f8",
              "IPY_MODEL_45a96b3dfde54d1ba554cb09a1d76ffe"
            ]
          }
        },
        "f7d700814708475bb950535822f8d418": {
          "model_module": "@jupyter-widgets/base",
          "model_name": "LayoutModel",
          "state": {
            "_view_name": "LayoutView",
            "grid_template_rows": null,
            "right": null,
            "justify_content": null,
            "_view_module": "@jupyter-widgets/base",
            "overflow": null,
            "_model_module_version": "1.2.0",
            "_view_count": null,
            "flex_flow": null,
            "width": null,
            "min_width": null,
            "border": null,
            "align_items": null,
            "bottom": null,
            "_model_module": "@jupyter-widgets/base",
            "top": null,
            "grid_column": null,
            "overflow_y": null,
            "overflow_x": null,
            "grid_auto_flow": null,
            "grid_area": null,
            "grid_template_columns": null,
            "flex": null,
            "_model_name": "LayoutModel",
            "justify_items": null,
            "grid_row": null,
            "max_height": null,
            "align_content": null,
            "visibility": null,
            "align_self": null,
            "height": null,
            "min_height": null,
            "padding": null,
            "grid_auto_rows": null,
            "grid_gap": null,
            "max_width": null,
            "order": null,
            "_view_module_version": "1.2.0",
            "grid_template_areas": null,
            "object_position": null,
            "object_fit": null,
            "grid_auto_columns": null,
            "margin": null,
            "display": null,
            "left": null
          }
        },
        "2961f0a9226a4027be005b0d6e2e89f8": {
          "model_module": "@jupyter-widgets/controls",
          "model_name": "FloatProgressModel",
          "state": {
            "_view_name": "ProgressView",
            "style": "IPY_MODEL_80cd12c2aaa14b01a8bf232aad066eaa",
            "_dom_classes": [],
            "description": "Optimization Progress:  68%",
            "_model_name": "FloatProgressModel",
            "bar_style": "danger",
            "max": 10100,
            "_view_module": "@jupyter-widgets/controls",
            "_model_module_version": "1.5.0",
            "value": 6900,
            "_view_count": null,
            "_view_module_version": "1.5.0",
            "orientation": "horizontal",
            "min": 0,
            "description_tooltip": null,
            "_model_module": "@jupyter-widgets/controls",
            "layout": "IPY_MODEL_4f2c799f2a254a20b509e40f941df3dc"
          }
        },
        "45a96b3dfde54d1ba554cb09a1d76ffe": {
          "model_module": "@jupyter-widgets/controls",
          "model_name": "HTMLModel",
          "state": {
            "_view_name": "HTMLView",
            "style": "IPY_MODEL_65427b0a13cd44bf84a6749f74a7e524",
            "_dom_classes": [],
            "description": "",
            "_model_name": "HTMLModel",
            "placeholder": "​",
            "_view_module": "@jupyter-widgets/controls",
            "_model_module_version": "1.5.0",
            "value": " 6900/10100 [2:07:04&lt;16:23,  3.25pipeline/s]",
            "_view_count": null,
            "_view_module_version": "1.5.0",
            "description_tooltip": null,
            "_model_module": "@jupyter-widgets/controls",
            "layout": "IPY_MODEL_b9c86a0c521849f986e46040ec18a78d"
          }
        },
        "80cd12c2aaa14b01a8bf232aad066eaa": {
          "model_module": "@jupyter-widgets/controls",
          "model_name": "ProgressStyleModel",
          "state": {
            "_view_name": "StyleView",
            "_model_name": "ProgressStyleModel",
            "description_width": "initial",
            "_view_module": "@jupyter-widgets/base",
            "_model_module_version": "1.5.0",
            "_view_count": null,
            "_view_module_version": "1.2.0",
            "bar_color": null,
            "_model_module": "@jupyter-widgets/controls"
          }
        },
        "4f2c799f2a254a20b509e40f941df3dc": {
          "model_module": "@jupyter-widgets/base",
          "model_name": "LayoutModel",
          "state": {
            "_view_name": "LayoutView",
            "grid_template_rows": null,
            "right": null,
            "justify_content": null,
            "_view_module": "@jupyter-widgets/base",
            "overflow": null,
            "_model_module_version": "1.2.0",
            "_view_count": null,
            "flex_flow": null,
            "width": null,
            "min_width": null,
            "border": null,
            "align_items": null,
            "bottom": null,
            "_model_module": "@jupyter-widgets/base",
            "top": null,
            "grid_column": null,
            "overflow_y": null,
            "overflow_x": null,
            "grid_auto_flow": null,
            "grid_area": null,
            "grid_template_columns": null,
            "flex": null,
            "_model_name": "LayoutModel",
            "justify_items": null,
            "grid_row": null,
            "max_height": null,
            "align_content": null,
            "visibility": null,
            "align_self": null,
            "height": null,
            "min_height": null,
            "padding": null,
            "grid_auto_rows": null,
            "grid_gap": null,
            "max_width": null,
            "order": null,
            "_view_module_version": "1.2.0",
            "grid_template_areas": null,
            "object_position": null,
            "object_fit": null,
            "grid_auto_columns": null,
            "margin": null,
            "display": null,
            "left": null
          }
        },
        "65427b0a13cd44bf84a6749f74a7e524": {
          "model_module": "@jupyter-widgets/controls",
          "model_name": "DescriptionStyleModel",
          "state": {
            "_view_name": "StyleView",
            "_model_name": "DescriptionStyleModel",
            "description_width": "",
            "_view_module": "@jupyter-widgets/base",
            "_model_module_version": "1.5.0",
            "_view_count": null,
            "_view_module_version": "1.2.0",
            "_model_module": "@jupyter-widgets/controls"
          }
        },
        "b9c86a0c521849f986e46040ec18a78d": {
          "model_module": "@jupyter-widgets/base",
          "model_name": "LayoutModel",
          "state": {
            "_view_name": "LayoutView",
            "grid_template_rows": null,
            "right": null,
            "justify_content": null,
            "_view_module": "@jupyter-widgets/base",
            "overflow": null,
            "_model_module_version": "1.2.0",
            "_view_count": null,
            "flex_flow": null,
            "width": null,
            "min_width": null,
            "border": null,
            "align_items": null,
            "bottom": null,
            "_model_module": "@jupyter-widgets/base",
            "top": null,
            "grid_column": null,
            "overflow_y": null,
            "overflow_x": null,
            "grid_auto_flow": null,
            "grid_area": null,
            "grid_template_columns": null,
            "flex": null,
            "_model_name": "LayoutModel",
            "justify_items": null,
            "grid_row": null,
            "max_height": null,
            "align_content": null,
            "visibility": null,
            "align_self": null,
            "height": null,
            "min_height": null,
            "padding": null,
            "grid_auto_rows": null,
            "grid_gap": null,
            "max_width": null,
            "order": null,
            "_view_module_version": "1.2.0",
            "grid_template_areas": null,
            "object_position": null,
            "object_fit": null,
            "grid_auto_columns": null,
            "margin": null,
            "display": null,
            "left": null
          }
        }
      }
    }
  },
  "cells": [
    {
      "cell_type": "markdown",
      "metadata": {
        "id": "view-in-github",
        "colab_type": "text"
      },
      "source": [
        "<a href=\"https://colab.research.google.com/github/batmanscode/breast-cancer-wisconsin/blob/master/breast_cancer_notebook.ipynb\" target=\"_parent\"><img src=\"https://colab.research.google.com/assets/colab-badge.svg\" alt=\"Open In Colab\"/></a>"
      ]
    },
    {
      "cell_type": "markdown",
      "metadata": {
        "id": "cCoLIQutGcKu",
        "colab_type": "text"
      },
      "source": [
        "# Breast cancer diagnosis using the wisconsin dataset from kaggle\n",
        "\n",
        "## This notebook contains a bit of EDA and the steps used to create the pkl file that the app uses\n",
        "\n"
      ]
    },
    {
      "cell_type": "code",
      "metadata": {
        "id": "goP8H7nbGXme",
        "colab_type": "code",
        "colab": {}
      },
      "source": [
        "# use if you want to use with Google Drive\n",
        "\n",
        "# from google.colab import drive\n",
        "# drive.mount('/content/drive')"
      ],
      "execution_count": null,
      "outputs": []
    },
    {
      "cell_type": "code",
      "metadata": {
        "id": "OsmdqqoWSgFw",
        "colab_type": "code",
        "colab": {
          "base_uri": "https://localhost:8080/",
          "height": 343
        },
        "outputId": "bafcfed5-fac8-4762-ba77-637fb2871515"
      },
      "source": [
        "pip install tpot"
      ],
      "execution_count": null,
      "outputs": [
        {
          "output_type": "stream",
          "text": [
            "Requirement already satisfied: tpot in /usr/local/lib/python3.6/dist-packages (0.11.5)\n",
            "Requirement already satisfied: tqdm>=4.36.1 in /usr/local/lib/python3.6/dist-packages (from tpot) (4.47.0)\n",
            "Requirement already satisfied: deap>=1.2 in /usr/local/lib/python3.6/dist-packages (from tpot) (1.3.1)\n",
            "Requirement already satisfied: stopit>=1.1.1 in /usr/local/lib/python3.6/dist-packages (from tpot) (1.1.2)\n",
            "Requirement already satisfied: scikit-learn>=0.22.0 in /usr/local/lib/python3.6/dist-packages (from tpot) (0.22.2.post1)\n",
            "Requirement already satisfied: joblib>=0.13.2 in /usr/local/lib/python3.6/dist-packages (from tpot) (0.15.1)\n",
            "Requirement already satisfied: update-checker>=0.16 in /usr/local/lib/python3.6/dist-packages (from tpot) (0.17)\n",
            "Requirement already satisfied: scipy>=1.3.1 in /usr/local/lib/python3.6/dist-packages (from tpot) (1.4.1)\n",
            "Requirement already satisfied: pandas>=0.24.2 in /usr/local/lib/python3.6/dist-packages (from tpot) (1.0.5)\n",
            "Requirement already satisfied: numpy>=1.16.3 in /usr/local/lib/python3.6/dist-packages (from tpot) (1.18.5)\n",
            "Requirement already satisfied: requests>=2.3.0 in /usr/local/lib/python3.6/dist-packages (from update-checker>=0.16->tpot) (2.23.0)\n",
            "Requirement already satisfied: pytz>=2017.2 in /usr/local/lib/python3.6/dist-packages (from pandas>=0.24.2->tpot) (2018.9)\n",
            "Requirement already satisfied: python-dateutil>=2.6.1 in /usr/local/lib/python3.6/dist-packages (from pandas>=0.24.2->tpot) (2.8.1)\n",
            "Requirement already satisfied: urllib3!=1.25.0,!=1.25.1,<1.26,>=1.21.1 in /usr/local/lib/python3.6/dist-packages (from requests>=2.3.0->update-checker>=0.16->tpot) (1.24.3)\n",
            "Requirement already satisfied: chardet<4,>=3.0.2 in /usr/local/lib/python3.6/dist-packages (from requests>=2.3.0->update-checker>=0.16->tpot) (3.0.4)\n",
            "Requirement already satisfied: certifi>=2017.4.17 in /usr/local/lib/python3.6/dist-packages (from requests>=2.3.0->update-checker>=0.16->tpot) (2020.6.20)\n",
            "Requirement already satisfied: idna<3,>=2.5 in /usr/local/lib/python3.6/dist-packages (from requests>=2.3.0->update-checker>=0.16->tpot) (2.9)\n",
            "Requirement already satisfied: six>=1.5 in /usr/local/lib/python3.6/dist-packages (from python-dateutil>=2.6.1->pandas>=0.24.2->tpot) (1.12.0)\n"
          ],
          "name": "stdout"
        }
      ]
    },
    {
      "cell_type": "code",
      "metadata": {
        "id": "622CSFTgxQ1P",
        "colab_type": "code",
        "colab": {
          "base_uri": "https://localhost:8080/",
          "height": 221
        },
        "outputId": "4ca1e29c-44ae-4aff-a43e-943b4c2afd60"
      },
      "source": [
        "pip install heatmapz"
      ],
      "execution_count": null,
      "outputs": [
        {
          "output_type": "stream",
          "text": [
            "Requirement already satisfied: heatmapz in /usr/local/lib/python3.6/dist-packages (0.0.4)\n",
            "Requirement already satisfied: seaborn in /usr/local/lib/python3.6/dist-packages (from heatmapz) (0.10.1)\n",
            "Requirement already satisfied: matplotlib>=3.0.3 in /usr/local/lib/python3.6/dist-packages (from heatmapz) (3.2.2)\n",
            "Requirement already satisfied: pandas in /usr/local/lib/python3.6/dist-packages (from heatmapz) (1.0.5)\n",
            "Requirement already satisfied: scipy>=1.0.1 in /usr/local/lib/python3.6/dist-packages (from seaborn->heatmapz) (1.4.1)\n",
            "Requirement already satisfied: numpy>=1.13.3 in /usr/local/lib/python3.6/dist-packages (from seaborn->heatmapz) (1.18.5)\n",
            "Requirement already satisfied: python-dateutil>=2.1 in /usr/local/lib/python3.6/dist-packages (from matplotlib>=3.0.3->heatmapz) (2.8.1)\n",
            "Requirement already satisfied: pyparsing!=2.0.4,!=2.1.2,!=2.1.6,>=2.0.1 in /usr/local/lib/python3.6/dist-packages (from matplotlib>=3.0.3->heatmapz) (2.4.7)\n",
            "Requirement already satisfied: cycler>=0.10 in /usr/local/lib/python3.6/dist-packages (from matplotlib>=3.0.3->heatmapz) (0.10.0)\n",
            "Requirement already satisfied: kiwisolver>=1.0.1 in /usr/local/lib/python3.6/dist-packages (from matplotlib>=3.0.3->heatmapz) (1.2.0)\n",
            "Requirement already satisfied: pytz>=2017.2 in /usr/local/lib/python3.6/dist-packages (from pandas->heatmapz) (2018.9)\n",
            "Requirement already satisfied: six>=1.5 in /usr/local/lib/python3.6/dist-packages (from python-dateutil>=2.1->matplotlib>=3.0.3->heatmapz) (1.12.0)\n"
          ],
          "name": "stdout"
        }
      ]
    },
    {
      "cell_type": "code",
      "metadata": {
        "id": "Z_o08qxKS3v0",
        "colab_type": "code",
        "colab": {}
      },
      "source": [
        "import numpy as np\n",
        "import pandas as pd\n",
        "from sklearn.model_selection import train_test_split\n",
        "from tpot import TPOTClassifier\n",
        "from heatmap import heatmap, corrplot\n",
        "import matplotlib.pyplot as plt\n",
        "import seaborn as sns\n",
        "%matplotlib inline"
      ],
      "execution_count": null,
      "outputs": []
    },
    {
      "cell_type": "markdown",
      "metadata": {
        "id": "X2vqjWwi1ECb",
        "colab_type": "text"
      },
      "source": [
        "## import data"
      ]
    },
    {
      "cell_type": "code",
      "metadata": {
        "id": "frhz9eg_Tqdv",
        "colab_type": "code",
        "colab": {
          "base_uri": "https://localhost:8080/",
          "height": 456
        },
        "outputId": "41136823-0d33-4e30-fdc4-779de08a3e0c"
      },
      "source": [
        "full_data = pd.read_csv(\"data.csv\")\n",
        "\n",
        "# or use\n",
        "# full_data = pd.read_csv(\"https://raw.githubusercontent.com/batmanscode/breast-cancer-wisconsin/master/data.csv\")\n",
        "# to read directly from github\n",
        "\n",
        "full_data"
      ],
      "execution_count": null,
      "outputs": [
        {
          "output_type": "execute_result",
          "data": {
            "text/html": [
              "<div>\n",
              "<style scoped>\n",
              "    .dataframe tbody tr th:only-of-type {\n",
              "        vertical-align: middle;\n",
              "    }\n",
              "\n",
              "    .dataframe tbody tr th {\n",
              "        vertical-align: top;\n",
              "    }\n",
              "\n",
              "    .dataframe thead th {\n",
              "        text-align: right;\n",
              "    }\n",
              "</style>\n",
              "<table border=\"1\" class=\"dataframe\">\n",
              "  <thead>\n",
              "    <tr style=\"text-align: right;\">\n",
              "      <th></th>\n",
              "      <th>id</th>\n",
              "      <th>diagnosis</th>\n",
              "      <th>radius_mean</th>\n",
              "      <th>texture_mean</th>\n",
              "      <th>perimeter_mean</th>\n",
              "      <th>area_mean</th>\n",
              "      <th>smoothness_mean</th>\n",
              "      <th>compactness_mean</th>\n",
              "      <th>concavity_mean</th>\n",
              "      <th>concave points_mean</th>\n",
              "      <th>symmetry_mean</th>\n",
              "      <th>fractal_dimension_mean</th>\n",
              "      <th>radius_se</th>\n",
              "      <th>texture_se</th>\n",
              "      <th>perimeter_se</th>\n",
              "      <th>area_se</th>\n",
              "      <th>smoothness_se</th>\n",
              "      <th>compactness_se</th>\n",
              "      <th>concavity_se</th>\n",
              "      <th>concave points_se</th>\n",
              "      <th>symmetry_se</th>\n",
              "      <th>fractal_dimension_se</th>\n",
              "      <th>radius_worst</th>\n",
              "      <th>texture_worst</th>\n",
              "      <th>perimeter_worst</th>\n",
              "      <th>area_worst</th>\n",
              "      <th>smoothness_worst</th>\n",
              "      <th>compactness_worst</th>\n",
              "      <th>concavity_worst</th>\n",
              "      <th>concave points_worst</th>\n",
              "      <th>symmetry_worst</th>\n",
              "      <th>fractal_dimension_worst</th>\n",
              "      <th>Unnamed: 32</th>\n",
              "    </tr>\n",
              "  </thead>\n",
              "  <tbody>\n",
              "    <tr>\n",
              "      <th>0</th>\n",
              "      <td>842302</td>\n",
              "      <td>M</td>\n",
              "      <td>17.99</td>\n",
              "      <td>10.38</td>\n",
              "      <td>122.80</td>\n",
              "      <td>1001.0</td>\n",
              "      <td>0.11840</td>\n",
              "      <td>0.27760</td>\n",
              "      <td>0.30010</td>\n",
              "      <td>0.14710</td>\n",
              "      <td>0.2419</td>\n",
              "      <td>0.07871</td>\n",
              "      <td>1.0950</td>\n",
              "      <td>0.9053</td>\n",
              "      <td>8.589</td>\n",
              "      <td>153.40</td>\n",
              "      <td>0.006399</td>\n",
              "      <td>0.04904</td>\n",
              "      <td>0.05373</td>\n",
              "      <td>0.01587</td>\n",
              "      <td>0.03003</td>\n",
              "      <td>0.006193</td>\n",
              "      <td>25.380</td>\n",
              "      <td>17.33</td>\n",
              "      <td>184.60</td>\n",
              "      <td>2019.0</td>\n",
              "      <td>0.16220</td>\n",
              "      <td>0.66560</td>\n",
              "      <td>0.7119</td>\n",
              "      <td>0.2654</td>\n",
              "      <td>0.4601</td>\n",
              "      <td>0.11890</td>\n",
              "      <td>NaN</td>\n",
              "    </tr>\n",
              "    <tr>\n",
              "      <th>1</th>\n",
              "      <td>842517</td>\n",
              "      <td>M</td>\n",
              "      <td>20.57</td>\n",
              "      <td>17.77</td>\n",
              "      <td>132.90</td>\n",
              "      <td>1326.0</td>\n",
              "      <td>0.08474</td>\n",
              "      <td>0.07864</td>\n",
              "      <td>0.08690</td>\n",
              "      <td>0.07017</td>\n",
              "      <td>0.1812</td>\n",
              "      <td>0.05667</td>\n",
              "      <td>0.5435</td>\n",
              "      <td>0.7339</td>\n",
              "      <td>3.398</td>\n",
              "      <td>74.08</td>\n",
              "      <td>0.005225</td>\n",
              "      <td>0.01308</td>\n",
              "      <td>0.01860</td>\n",
              "      <td>0.01340</td>\n",
              "      <td>0.01389</td>\n",
              "      <td>0.003532</td>\n",
              "      <td>24.990</td>\n",
              "      <td>23.41</td>\n",
              "      <td>158.80</td>\n",
              "      <td>1956.0</td>\n",
              "      <td>0.12380</td>\n",
              "      <td>0.18660</td>\n",
              "      <td>0.2416</td>\n",
              "      <td>0.1860</td>\n",
              "      <td>0.2750</td>\n",
              "      <td>0.08902</td>\n",
              "      <td>NaN</td>\n",
              "    </tr>\n",
              "    <tr>\n",
              "      <th>2</th>\n",
              "      <td>84300903</td>\n",
              "      <td>M</td>\n",
              "      <td>19.69</td>\n",
              "      <td>21.25</td>\n",
              "      <td>130.00</td>\n",
              "      <td>1203.0</td>\n",
              "      <td>0.10960</td>\n",
              "      <td>0.15990</td>\n",
              "      <td>0.19740</td>\n",
              "      <td>0.12790</td>\n",
              "      <td>0.2069</td>\n",
              "      <td>0.05999</td>\n",
              "      <td>0.7456</td>\n",
              "      <td>0.7869</td>\n",
              "      <td>4.585</td>\n",
              "      <td>94.03</td>\n",
              "      <td>0.006150</td>\n",
              "      <td>0.04006</td>\n",
              "      <td>0.03832</td>\n",
              "      <td>0.02058</td>\n",
              "      <td>0.02250</td>\n",
              "      <td>0.004571</td>\n",
              "      <td>23.570</td>\n",
              "      <td>25.53</td>\n",
              "      <td>152.50</td>\n",
              "      <td>1709.0</td>\n",
              "      <td>0.14440</td>\n",
              "      <td>0.42450</td>\n",
              "      <td>0.4504</td>\n",
              "      <td>0.2430</td>\n",
              "      <td>0.3613</td>\n",
              "      <td>0.08758</td>\n",
              "      <td>NaN</td>\n",
              "    </tr>\n",
              "    <tr>\n",
              "      <th>3</th>\n",
              "      <td>84348301</td>\n",
              "      <td>M</td>\n",
              "      <td>11.42</td>\n",
              "      <td>20.38</td>\n",
              "      <td>77.58</td>\n",
              "      <td>386.1</td>\n",
              "      <td>0.14250</td>\n",
              "      <td>0.28390</td>\n",
              "      <td>0.24140</td>\n",
              "      <td>0.10520</td>\n",
              "      <td>0.2597</td>\n",
              "      <td>0.09744</td>\n",
              "      <td>0.4956</td>\n",
              "      <td>1.1560</td>\n",
              "      <td>3.445</td>\n",
              "      <td>27.23</td>\n",
              "      <td>0.009110</td>\n",
              "      <td>0.07458</td>\n",
              "      <td>0.05661</td>\n",
              "      <td>0.01867</td>\n",
              "      <td>0.05963</td>\n",
              "      <td>0.009208</td>\n",
              "      <td>14.910</td>\n",
              "      <td>26.50</td>\n",
              "      <td>98.87</td>\n",
              "      <td>567.7</td>\n",
              "      <td>0.20980</td>\n",
              "      <td>0.86630</td>\n",
              "      <td>0.6869</td>\n",
              "      <td>0.2575</td>\n",
              "      <td>0.6638</td>\n",
              "      <td>0.17300</td>\n",
              "      <td>NaN</td>\n",
              "    </tr>\n",
              "    <tr>\n",
              "      <th>4</th>\n",
              "      <td>84358402</td>\n",
              "      <td>M</td>\n",
              "      <td>20.29</td>\n",
              "      <td>14.34</td>\n",
              "      <td>135.10</td>\n",
              "      <td>1297.0</td>\n",
              "      <td>0.10030</td>\n",
              "      <td>0.13280</td>\n",
              "      <td>0.19800</td>\n",
              "      <td>0.10430</td>\n",
              "      <td>0.1809</td>\n",
              "      <td>0.05883</td>\n",
              "      <td>0.7572</td>\n",
              "      <td>0.7813</td>\n",
              "      <td>5.438</td>\n",
              "      <td>94.44</td>\n",
              "      <td>0.011490</td>\n",
              "      <td>0.02461</td>\n",
              "      <td>0.05688</td>\n",
              "      <td>0.01885</td>\n",
              "      <td>0.01756</td>\n",
              "      <td>0.005115</td>\n",
              "      <td>22.540</td>\n",
              "      <td>16.67</td>\n",
              "      <td>152.20</td>\n",
              "      <td>1575.0</td>\n",
              "      <td>0.13740</td>\n",
              "      <td>0.20500</td>\n",
              "      <td>0.4000</td>\n",
              "      <td>0.1625</td>\n",
              "      <td>0.2364</td>\n",
              "      <td>0.07678</td>\n",
              "      <td>NaN</td>\n",
              "    </tr>\n",
              "    <tr>\n",
              "      <th>...</th>\n",
              "      <td>...</td>\n",
              "      <td>...</td>\n",
              "      <td>...</td>\n",
              "      <td>...</td>\n",
              "      <td>...</td>\n",
              "      <td>...</td>\n",
              "      <td>...</td>\n",
              "      <td>...</td>\n",
              "      <td>...</td>\n",
              "      <td>...</td>\n",
              "      <td>...</td>\n",
              "      <td>...</td>\n",
              "      <td>...</td>\n",
              "      <td>...</td>\n",
              "      <td>...</td>\n",
              "      <td>...</td>\n",
              "      <td>...</td>\n",
              "      <td>...</td>\n",
              "      <td>...</td>\n",
              "      <td>...</td>\n",
              "      <td>...</td>\n",
              "      <td>...</td>\n",
              "      <td>...</td>\n",
              "      <td>...</td>\n",
              "      <td>...</td>\n",
              "      <td>...</td>\n",
              "      <td>...</td>\n",
              "      <td>...</td>\n",
              "      <td>...</td>\n",
              "      <td>...</td>\n",
              "      <td>...</td>\n",
              "      <td>...</td>\n",
              "      <td>...</td>\n",
              "    </tr>\n",
              "    <tr>\n",
              "      <th>564</th>\n",
              "      <td>926424</td>\n",
              "      <td>M</td>\n",
              "      <td>21.56</td>\n",
              "      <td>22.39</td>\n",
              "      <td>142.00</td>\n",
              "      <td>1479.0</td>\n",
              "      <td>0.11100</td>\n",
              "      <td>0.11590</td>\n",
              "      <td>0.24390</td>\n",
              "      <td>0.13890</td>\n",
              "      <td>0.1726</td>\n",
              "      <td>0.05623</td>\n",
              "      <td>1.1760</td>\n",
              "      <td>1.2560</td>\n",
              "      <td>7.673</td>\n",
              "      <td>158.70</td>\n",
              "      <td>0.010300</td>\n",
              "      <td>0.02891</td>\n",
              "      <td>0.05198</td>\n",
              "      <td>0.02454</td>\n",
              "      <td>0.01114</td>\n",
              "      <td>0.004239</td>\n",
              "      <td>25.450</td>\n",
              "      <td>26.40</td>\n",
              "      <td>166.10</td>\n",
              "      <td>2027.0</td>\n",
              "      <td>0.14100</td>\n",
              "      <td>0.21130</td>\n",
              "      <td>0.4107</td>\n",
              "      <td>0.2216</td>\n",
              "      <td>0.2060</td>\n",
              "      <td>0.07115</td>\n",
              "      <td>NaN</td>\n",
              "    </tr>\n",
              "    <tr>\n",
              "      <th>565</th>\n",
              "      <td>926682</td>\n",
              "      <td>M</td>\n",
              "      <td>20.13</td>\n",
              "      <td>28.25</td>\n",
              "      <td>131.20</td>\n",
              "      <td>1261.0</td>\n",
              "      <td>0.09780</td>\n",
              "      <td>0.10340</td>\n",
              "      <td>0.14400</td>\n",
              "      <td>0.09791</td>\n",
              "      <td>0.1752</td>\n",
              "      <td>0.05533</td>\n",
              "      <td>0.7655</td>\n",
              "      <td>2.4630</td>\n",
              "      <td>5.203</td>\n",
              "      <td>99.04</td>\n",
              "      <td>0.005769</td>\n",
              "      <td>0.02423</td>\n",
              "      <td>0.03950</td>\n",
              "      <td>0.01678</td>\n",
              "      <td>0.01898</td>\n",
              "      <td>0.002498</td>\n",
              "      <td>23.690</td>\n",
              "      <td>38.25</td>\n",
              "      <td>155.00</td>\n",
              "      <td>1731.0</td>\n",
              "      <td>0.11660</td>\n",
              "      <td>0.19220</td>\n",
              "      <td>0.3215</td>\n",
              "      <td>0.1628</td>\n",
              "      <td>0.2572</td>\n",
              "      <td>0.06637</td>\n",
              "      <td>NaN</td>\n",
              "    </tr>\n",
              "    <tr>\n",
              "      <th>566</th>\n",
              "      <td>926954</td>\n",
              "      <td>M</td>\n",
              "      <td>16.60</td>\n",
              "      <td>28.08</td>\n",
              "      <td>108.30</td>\n",
              "      <td>858.1</td>\n",
              "      <td>0.08455</td>\n",
              "      <td>0.10230</td>\n",
              "      <td>0.09251</td>\n",
              "      <td>0.05302</td>\n",
              "      <td>0.1590</td>\n",
              "      <td>0.05648</td>\n",
              "      <td>0.4564</td>\n",
              "      <td>1.0750</td>\n",
              "      <td>3.425</td>\n",
              "      <td>48.55</td>\n",
              "      <td>0.005903</td>\n",
              "      <td>0.03731</td>\n",
              "      <td>0.04730</td>\n",
              "      <td>0.01557</td>\n",
              "      <td>0.01318</td>\n",
              "      <td>0.003892</td>\n",
              "      <td>18.980</td>\n",
              "      <td>34.12</td>\n",
              "      <td>126.70</td>\n",
              "      <td>1124.0</td>\n",
              "      <td>0.11390</td>\n",
              "      <td>0.30940</td>\n",
              "      <td>0.3403</td>\n",
              "      <td>0.1418</td>\n",
              "      <td>0.2218</td>\n",
              "      <td>0.07820</td>\n",
              "      <td>NaN</td>\n",
              "    </tr>\n",
              "    <tr>\n",
              "      <th>567</th>\n",
              "      <td>927241</td>\n",
              "      <td>M</td>\n",
              "      <td>20.60</td>\n",
              "      <td>29.33</td>\n",
              "      <td>140.10</td>\n",
              "      <td>1265.0</td>\n",
              "      <td>0.11780</td>\n",
              "      <td>0.27700</td>\n",
              "      <td>0.35140</td>\n",
              "      <td>0.15200</td>\n",
              "      <td>0.2397</td>\n",
              "      <td>0.07016</td>\n",
              "      <td>0.7260</td>\n",
              "      <td>1.5950</td>\n",
              "      <td>5.772</td>\n",
              "      <td>86.22</td>\n",
              "      <td>0.006522</td>\n",
              "      <td>0.06158</td>\n",
              "      <td>0.07117</td>\n",
              "      <td>0.01664</td>\n",
              "      <td>0.02324</td>\n",
              "      <td>0.006185</td>\n",
              "      <td>25.740</td>\n",
              "      <td>39.42</td>\n",
              "      <td>184.60</td>\n",
              "      <td>1821.0</td>\n",
              "      <td>0.16500</td>\n",
              "      <td>0.86810</td>\n",
              "      <td>0.9387</td>\n",
              "      <td>0.2650</td>\n",
              "      <td>0.4087</td>\n",
              "      <td>0.12400</td>\n",
              "      <td>NaN</td>\n",
              "    </tr>\n",
              "    <tr>\n",
              "      <th>568</th>\n",
              "      <td>92751</td>\n",
              "      <td>B</td>\n",
              "      <td>7.76</td>\n",
              "      <td>24.54</td>\n",
              "      <td>47.92</td>\n",
              "      <td>181.0</td>\n",
              "      <td>0.05263</td>\n",
              "      <td>0.04362</td>\n",
              "      <td>0.00000</td>\n",
              "      <td>0.00000</td>\n",
              "      <td>0.1587</td>\n",
              "      <td>0.05884</td>\n",
              "      <td>0.3857</td>\n",
              "      <td>1.4280</td>\n",
              "      <td>2.548</td>\n",
              "      <td>19.15</td>\n",
              "      <td>0.007189</td>\n",
              "      <td>0.00466</td>\n",
              "      <td>0.00000</td>\n",
              "      <td>0.00000</td>\n",
              "      <td>0.02676</td>\n",
              "      <td>0.002783</td>\n",
              "      <td>9.456</td>\n",
              "      <td>30.37</td>\n",
              "      <td>59.16</td>\n",
              "      <td>268.6</td>\n",
              "      <td>0.08996</td>\n",
              "      <td>0.06444</td>\n",
              "      <td>0.0000</td>\n",
              "      <td>0.0000</td>\n",
              "      <td>0.2871</td>\n",
              "      <td>0.07039</td>\n",
              "      <td>NaN</td>\n",
              "    </tr>\n",
              "  </tbody>\n",
              "</table>\n",
              "<p>569 rows × 33 columns</p>\n",
              "</div>"
            ],
            "text/plain": [
              "           id diagnosis  ...  fractal_dimension_worst  Unnamed: 32\n",
              "0      842302         M  ...                  0.11890          NaN\n",
              "1      842517         M  ...                  0.08902          NaN\n",
              "2    84300903         M  ...                  0.08758          NaN\n",
              "3    84348301         M  ...                  0.17300          NaN\n",
              "4    84358402         M  ...                  0.07678          NaN\n",
              "..        ...       ...  ...                      ...          ...\n",
              "564    926424         M  ...                  0.07115          NaN\n",
              "565    926682         M  ...                  0.06637          NaN\n",
              "566    926954         M  ...                  0.07820          NaN\n",
              "567    927241         M  ...                  0.12400          NaN\n",
              "568     92751         B  ...                  0.07039          NaN\n",
              "\n",
              "[569 rows x 33 columns]"
            ]
          },
          "metadata": {
            "tags": []
          },
          "execution_count": 5
        }
      ]
    },
    {
      "cell_type": "markdown",
      "metadata": {
        "id": "z1cXL1bwae1S",
        "colab_type": "text"
      },
      "source": [
        "## clean data"
      ]
    },
    {
      "cell_type": "code",
      "metadata": {
        "id": "k1Ksc2h1-37l",
        "colab_type": "code",
        "colab": {
          "base_uri": "https://localhost:8080/",
          "height": 456
        },
        "outputId": "9d0f60a3-e1da-4fd1-a66f-056d15dee2aa"
      },
      "source": [
        "# id is unnecessary and unnamed: 32 is empty so going to remove them\n",
        "data = full_data.drop(['id', 'Unnamed: 32'], axis=1)\n",
        "\n",
        "# could also remove a column full of empty values with:\n",
        "# data.dropna(axis=1, how='all', inplace=True)\n",
        "\n",
        "# convert M, B to 1,0\n",
        "data['diagnosis'] = data['diagnosis'].map({'M':1,'B':0})\n",
        "\n",
        "data"
      ],
      "execution_count": null,
      "outputs": [
        {
          "output_type": "execute_result",
          "data": {
            "text/html": [
              "<div>\n",
              "<style scoped>\n",
              "    .dataframe tbody tr th:only-of-type {\n",
              "        vertical-align: middle;\n",
              "    }\n",
              "\n",
              "    .dataframe tbody tr th {\n",
              "        vertical-align: top;\n",
              "    }\n",
              "\n",
              "    .dataframe thead th {\n",
              "        text-align: right;\n",
              "    }\n",
              "</style>\n",
              "<table border=\"1\" class=\"dataframe\">\n",
              "  <thead>\n",
              "    <tr style=\"text-align: right;\">\n",
              "      <th></th>\n",
              "      <th>diagnosis</th>\n",
              "      <th>radius_mean</th>\n",
              "      <th>texture_mean</th>\n",
              "      <th>perimeter_mean</th>\n",
              "      <th>area_mean</th>\n",
              "      <th>smoothness_mean</th>\n",
              "      <th>compactness_mean</th>\n",
              "      <th>concavity_mean</th>\n",
              "      <th>concave points_mean</th>\n",
              "      <th>symmetry_mean</th>\n",
              "      <th>fractal_dimension_mean</th>\n",
              "      <th>radius_se</th>\n",
              "      <th>texture_se</th>\n",
              "      <th>perimeter_se</th>\n",
              "      <th>area_se</th>\n",
              "      <th>smoothness_se</th>\n",
              "      <th>compactness_se</th>\n",
              "      <th>concavity_se</th>\n",
              "      <th>concave points_se</th>\n",
              "      <th>symmetry_se</th>\n",
              "      <th>fractal_dimension_se</th>\n",
              "      <th>radius_worst</th>\n",
              "      <th>texture_worst</th>\n",
              "      <th>perimeter_worst</th>\n",
              "      <th>area_worst</th>\n",
              "      <th>smoothness_worst</th>\n",
              "      <th>compactness_worst</th>\n",
              "      <th>concavity_worst</th>\n",
              "      <th>concave points_worst</th>\n",
              "      <th>symmetry_worst</th>\n",
              "      <th>fractal_dimension_worst</th>\n",
              "    </tr>\n",
              "  </thead>\n",
              "  <tbody>\n",
              "    <tr>\n",
              "      <th>0</th>\n",
              "      <td>1</td>\n",
              "      <td>17.99</td>\n",
              "      <td>10.38</td>\n",
              "      <td>122.80</td>\n",
              "      <td>1001.0</td>\n",
              "      <td>0.11840</td>\n",
              "      <td>0.27760</td>\n",
              "      <td>0.30010</td>\n",
              "      <td>0.14710</td>\n",
              "      <td>0.2419</td>\n",
              "      <td>0.07871</td>\n",
              "      <td>1.0950</td>\n",
              "      <td>0.9053</td>\n",
              "      <td>8.589</td>\n",
              "      <td>153.40</td>\n",
              "      <td>0.006399</td>\n",
              "      <td>0.04904</td>\n",
              "      <td>0.05373</td>\n",
              "      <td>0.01587</td>\n",
              "      <td>0.03003</td>\n",
              "      <td>0.006193</td>\n",
              "      <td>25.380</td>\n",
              "      <td>17.33</td>\n",
              "      <td>184.60</td>\n",
              "      <td>2019.0</td>\n",
              "      <td>0.16220</td>\n",
              "      <td>0.66560</td>\n",
              "      <td>0.7119</td>\n",
              "      <td>0.2654</td>\n",
              "      <td>0.4601</td>\n",
              "      <td>0.11890</td>\n",
              "    </tr>\n",
              "    <tr>\n",
              "      <th>1</th>\n",
              "      <td>1</td>\n",
              "      <td>20.57</td>\n",
              "      <td>17.77</td>\n",
              "      <td>132.90</td>\n",
              "      <td>1326.0</td>\n",
              "      <td>0.08474</td>\n",
              "      <td>0.07864</td>\n",
              "      <td>0.08690</td>\n",
              "      <td>0.07017</td>\n",
              "      <td>0.1812</td>\n",
              "      <td>0.05667</td>\n",
              "      <td>0.5435</td>\n",
              "      <td>0.7339</td>\n",
              "      <td>3.398</td>\n",
              "      <td>74.08</td>\n",
              "      <td>0.005225</td>\n",
              "      <td>0.01308</td>\n",
              "      <td>0.01860</td>\n",
              "      <td>0.01340</td>\n",
              "      <td>0.01389</td>\n",
              "      <td>0.003532</td>\n",
              "      <td>24.990</td>\n",
              "      <td>23.41</td>\n",
              "      <td>158.80</td>\n",
              "      <td>1956.0</td>\n",
              "      <td>0.12380</td>\n",
              "      <td>0.18660</td>\n",
              "      <td>0.2416</td>\n",
              "      <td>0.1860</td>\n",
              "      <td>0.2750</td>\n",
              "      <td>0.08902</td>\n",
              "    </tr>\n",
              "    <tr>\n",
              "      <th>2</th>\n",
              "      <td>1</td>\n",
              "      <td>19.69</td>\n",
              "      <td>21.25</td>\n",
              "      <td>130.00</td>\n",
              "      <td>1203.0</td>\n",
              "      <td>0.10960</td>\n",
              "      <td>0.15990</td>\n",
              "      <td>0.19740</td>\n",
              "      <td>0.12790</td>\n",
              "      <td>0.2069</td>\n",
              "      <td>0.05999</td>\n",
              "      <td>0.7456</td>\n",
              "      <td>0.7869</td>\n",
              "      <td>4.585</td>\n",
              "      <td>94.03</td>\n",
              "      <td>0.006150</td>\n",
              "      <td>0.04006</td>\n",
              "      <td>0.03832</td>\n",
              "      <td>0.02058</td>\n",
              "      <td>0.02250</td>\n",
              "      <td>0.004571</td>\n",
              "      <td>23.570</td>\n",
              "      <td>25.53</td>\n",
              "      <td>152.50</td>\n",
              "      <td>1709.0</td>\n",
              "      <td>0.14440</td>\n",
              "      <td>0.42450</td>\n",
              "      <td>0.4504</td>\n",
              "      <td>0.2430</td>\n",
              "      <td>0.3613</td>\n",
              "      <td>0.08758</td>\n",
              "    </tr>\n",
              "    <tr>\n",
              "      <th>3</th>\n",
              "      <td>1</td>\n",
              "      <td>11.42</td>\n",
              "      <td>20.38</td>\n",
              "      <td>77.58</td>\n",
              "      <td>386.1</td>\n",
              "      <td>0.14250</td>\n",
              "      <td>0.28390</td>\n",
              "      <td>0.24140</td>\n",
              "      <td>0.10520</td>\n",
              "      <td>0.2597</td>\n",
              "      <td>0.09744</td>\n",
              "      <td>0.4956</td>\n",
              "      <td>1.1560</td>\n",
              "      <td>3.445</td>\n",
              "      <td>27.23</td>\n",
              "      <td>0.009110</td>\n",
              "      <td>0.07458</td>\n",
              "      <td>0.05661</td>\n",
              "      <td>0.01867</td>\n",
              "      <td>0.05963</td>\n",
              "      <td>0.009208</td>\n",
              "      <td>14.910</td>\n",
              "      <td>26.50</td>\n",
              "      <td>98.87</td>\n",
              "      <td>567.7</td>\n",
              "      <td>0.20980</td>\n",
              "      <td>0.86630</td>\n",
              "      <td>0.6869</td>\n",
              "      <td>0.2575</td>\n",
              "      <td>0.6638</td>\n",
              "      <td>0.17300</td>\n",
              "    </tr>\n",
              "    <tr>\n",
              "      <th>4</th>\n",
              "      <td>1</td>\n",
              "      <td>20.29</td>\n",
              "      <td>14.34</td>\n",
              "      <td>135.10</td>\n",
              "      <td>1297.0</td>\n",
              "      <td>0.10030</td>\n",
              "      <td>0.13280</td>\n",
              "      <td>0.19800</td>\n",
              "      <td>0.10430</td>\n",
              "      <td>0.1809</td>\n",
              "      <td>0.05883</td>\n",
              "      <td>0.7572</td>\n",
              "      <td>0.7813</td>\n",
              "      <td>5.438</td>\n",
              "      <td>94.44</td>\n",
              "      <td>0.011490</td>\n",
              "      <td>0.02461</td>\n",
              "      <td>0.05688</td>\n",
              "      <td>0.01885</td>\n",
              "      <td>0.01756</td>\n",
              "      <td>0.005115</td>\n",
              "      <td>22.540</td>\n",
              "      <td>16.67</td>\n",
              "      <td>152.20</td>\n",
              "      <td>1575.0</td>\n",
              "      <td>0.13740</td>\n",
              "      <td>0.20500</td>\n",
              "      <td>0.4000</td>\n",
              "      <td>0.1625</td>\n",
              "      <td>0.2364</td>\n",
              "      <td>0.07678</td>\n",
              "    </tr>\n",
              "    <tr>\n",
              "      <th>...</th>\n",
              "      <td>...</td>\n",
              "      <td>...</td>\n",
              "      <td>...</td>\n",
              "      <td>...</td>\n",
              "      <td>...</td>\n",
              "      <td>...</td>\n",
              "      <td>...</td>\n",
              "      <td>...</td>\n",
              "      <td>...</td>\n",
              "      <td>...</td>\n",
              "      <td>...</td>\n",
              "      <td>...</td>\n",
              "      <td>...</td>\n",
              "      <td>...</td>\n",
              "      <td>...</td>\n",
              "      <td>...</td>\n",
              "      <td>...</td>\n",
              "      <td>...</td>\n",
              "      <td>...</td>\n",
              "      <td>...</td>\n",
              "      <td>...</td>\n",
              "      <td>...</td>\n",
              "      <td>...</td>\n",
              "      <td>...</td>\n",
              "      <td>...</td>\n",
              "      <td>...</td>\n",
              "      <td>...</td>\n",
              "      <td>...</td>\n",
              "      <td>...</td>\n",
              "      <td>...</td>\n",
              "      <td>...</td>\n",
              "    </tr>\n",
              "    <tr>\n",
              "      <th>564</th>\n",
              "      <td>1</td>\n",
              "      <td>21.56</td>\n",
              "      <td>22.39</td>\n",
              "      <td>142.00</td>\n",
              "      <td>1479.0</td>\n",
              "      <td>0.11100</td>\n",
              "      <td>0.11590</td>\n",
              "      <td>0.24390</td>\n",
              "      <td>0.13890</td>\n",
              "      <td>0.1726</td>\n",
              "      <td>0.05623</td>\n",
              "      <td>1.1760</td>\n",
              "      <td>1.2560</td>\n",
              "      <td>7.673</td>\n",
              "      <td>158.70</td>\n",
              "      <td>0.010300</td>\n",
              "      <td>0.02891</td>\n",
              "      <td>0.05198</td>\n",
              "      <td>0.02454</td>\n",
              "      <td>0.01114</td>\n",
              "      <td>0.004239</td>\n",
              "      <td>25.450</td>\n",
              "      <td>26.40</td>\n",
              "      <td>166.10</td>\n",
              "      <td>2027.0</td>\n",
              "      <td>0.14100</td>\n",
              "      <td>0.21130</td>\n",
              "      <td>0.4107</td>\n",
              "      <td>0.2216</td>\n",
              "      <td>0.2060</td>\n",
              "      <td>0.07115</td>\n",
              "    </tr>\n",
              "    <tr>\n",
              "      <th>565</th>\n",
              "      <td>1</td>\n",
              "      <td>20.13</td>\n",
              "      <td>28.25</td>\n",
              "      <td>131.20</td>\n",
              "      <td>1261.0</td>\n",
              "      <td>0.09780</td>\n",
              "      <td>0.10340</td>\n",
              "      <td>0.14400</td>\n",
              "      <td>0.09791</td>\n",
              "      <td>0.1752</td>\n",
              "      <td>0.05533</td>\n",
              "      <td>0.7655</td>\n",
              "      <td>2.4630</td>\n",
              "      <td>5.203</td>\n",
              "      <td>99.04</td>\n",
              "      <td>0.005769</td>\n",
              "      <td>0.02423</td>\n",
              "      <td>0.03950</td>\n",
              "      <td>0.01678</td>\n",
              "      <td>0.01898</td>\n",
              "      <td>0.002498</td>\n",
              "      <td>23.690</td>\n",
              "      <td>38.25</td>\n",
              "      <td>155.00</td>\n",
              "      <td>1731.0</td>\n",
              "      <td>0.11660</td>\n",
              "      <td>0.19220</td>\n",
              "      <td>0.3215</td>\n",
              "      <td>0.1628</td>\n",
              "      <td>0.2572</td>\n",
              "      <td>0.06637</td>\n",
              "    </tr>\n",
              "    <tr>\n",
              "      <th>566</th>\n",
              "      <td>1</td>\n",
              "      <td>16.60</td>\n",
              "      <td>28.08</td>\n",
              "      <td>108.30</td>\n",
              "      <td>858.1</td>\n",
              "      <td>0.08455</td>\n",
              "      <td>0.10230</td>\n",
              "      <td>0.09251</td>\n",
              "      <td>0.05302</td>\n",
              "      <td>0.1590</td>\n",
              "      <td>0.05648</td>\n",
              "      <td>0.4564</td>\n",
              "      <td>1.0750</td>\n",
              "      <td>3.425</td>\n",
              "      <td>48.55</td>\n",
              "      <td>0.005903</td>\n",
              "      <td>0.03731</td>\n",
              "      <td>0.04730</td>\n",
              "      <td>0.01557</td>\n",
              "      <td>0.01318</td>\n",
              "      <td>0.003892</td>\n",
              "      <td>18.980</td>\n",
              "      <td>34.12</td>\n",
              "      <td>126.70</td>\n",
              "      <td>1124.0</td>\n",
              "      <td>0.11390</td>\n",
              "      <td>0.30940</td>\n",
              "      <td>0.3403</td>\n",
              "      <td>0.1418</td>\n",
              "      <td>0.2218</td>\n",
              "      <td>0.07820</td>\n",
              "    </tr>\n",
              "    <tr>\n",
              "      <th>567</th>\n",
              "      <td>1</td>\n",
              "      <td>20.60</td>\n",
              "      <td>29.33</td>\n",
              "      <td>140.10</td>\n",
              "      <td>1265.0</td>\n",
              "      <td>0.11780</td>\n",
              "      <td>0.27700</td>\n",
              "      <td>0.35140</td>\n",
              "      <td>0.15200</td>\n",
              "      <td>0.2397</td>\n",
              "      <td>0.07016</td>\n",
              "      <td>0.7260</td>\n",
              "      <td>1.5950</td>\n",
              "      <td>5.772</td>\n",
              "      <td>86.22</td>\n",
              "      <td>0.006522</td>\n",
              "      <td>0.06158</td>\n",
              "      <td>0.07117</td>\n",
              "      <td>0.01664</td>\n",
              "      <td>0.02324</td>\n",
              "      <td>0.006185</td>\n",
              "      <td>25.740</td>\n",
              "      <td>39.42</td>\n",
              "      <td>184.60</td>\n",
              "      <td>1821.0</td>\n",
              "      <td>0.16500</td>\n",
              "      <td>0.86810</td>\n",
              "      <td>0.9387</td>\n",
              "      <td>0.2650</td>\n",
              "      <td>0.4087</td>\n",
              "      <td>0.12400</td>\n",
              "    </tr>\n",
              "    <tr>\n",
              "      <th>568</th>\n",
              "      <td>0</td>\n",
              "      <td>7.76</td>\n",
              "      <td>24.54</td>\n",
              "      <td>47.92</td>\n",
              "      <td>181.0</td>\n",
              "      <td>0.05263</td>\n",
              "      <td>0.04362</td>\n",
              "      <td>0.00000</td>\n",
              "      <td>0.00000</td>\n",
              "      <td>0.1587</td>\n",
              "      <td>0.05884</td>\n",
              "      <td>0.3857</td>\n",
              "      <td>1.4280</td>\n",
              "      <td>2.548</td>\n",
              "      <td>19.15</td>\n",
              "      <td>0.007189</td>\n",
              "      <td>0.00466</td>\n",
              "      <td>0.00000</td>\n",
              "      <td>0.00000</td>\n",
              "      <td>0.02676</td>\n",
              "      <td>0.002783</td>\n",
              "      <td>9.456</td>\n",
              "      <td>30.37</td>\n",
              "      <td>59.16</td>\n",
              "      <td>268.6</td>\n",
              "      <td>0.08996</td>\n",
              "      <td>0.06444</td>\n",
              "      <td>0.0000</td>\n",
              "      <td>0.0000</td>\n",
              "      <td>0.2871</td>\n",
              "      <td>0.07039</td>\n",
              "    </tr>\n",
              "  </tbody>\n",
              "</table>\n",
              "<p>569 rows × 31 columns</p>\n",
              "</div>"
            ],
            "text/plain": [
              "     diagnosis  radius_mean  ...  symmetry_worst  fractal_dimension_worst\n",
              "0            1        17.99  ...          0.4601                  0.11890\n",
              "1            1        20.57  ...          0.2750                  0.08902\n",
              "2            1        19.69  ...          0.3613                  0.08758\n",
              "3            1        11.42  ...          0.6638                  0.17300\n",
              "4            1        20.29  ...          0.2364                  0.07678\n",
              "..         ...          ...  ...             ...                      ...\n",
              "564          1        21.56  ...          0.2060                  0.07115\n",
              "565          1        20.13  ...          0.2572                  0.06637\n",
              "566          1        16.60  ...          0.2218                  0.07820\n",
              "567          1        20.60  ...          0.4087                  0.12400\n",
              "568          0         7.76  ...          0.2871                  0.07039\n",
              "\n",
              "[569 rows x 31 columns]"
            ]
          },
          "metadata": {
            "tags": []
          },
          "execution_count": 14
        }
      ]
    },
    {
      "cell_type": "markdown",
      "metadata": {
        "id": "4WVkquKPBAkG",
        "colab_type": "text"
      },
      "source": [
        "### let's visualize with a heatmap"
      ]
    },
    {
      "cell_type": "code",
      "metadata": {
        "id": "CQVfaLSv_y5p",
        "colab_type": "code",
        "colab": {
          "base_uri": "https://localhost:8080/",
          "height": 1000
        },
        "outputId": "48ec9879-fa6a-4611-e2ea-edb2b0ccc94e"
      },
      "source": [
        "plt.figure(figsize=(16, 16))\n",
        "corrplot(data.corr(), size_scale=500);"
      ],
      "execution_count": null,
      "outputs": [
        {
          "output_type": "display_data",
          "data": {
            "image/png": "[encoded data removed]",
            "text/plain": [
              "<Figure size 1152x1152 with 2 Axes>"
            ]
          },
          "metadata": {
            "tags": [],
            "needs_background": "light"
          }
        }
      ]
    },
    {
      "cell_type": "markdown",
      "metadata": {
        "id": "ejSkPeEBHM-E",
        "colab_type": "text"
      },
      "source": [
        "## now lets look at the correlations of features vs diagnosis"
      ]
    },
    {
      "cell_type": "code",
      "metadata": {
        "id": "IH-smMZlhAp0",
        "colab_type": "code",
        "colab": {
          "base_uri": "https://localhost:8080/",
          "height": 544
        },
        "outputId": "3d8fb1eb-f2d9-4ae4-e5d8-ace3c07fd941"
      },
      "source": [
        "corr_features = data.drop('diagnosis', axis=1).apply(lambda x: x.corr(data['diagnosis']))\n",
        "corr_features"
      ],
      "execution_count": null,
      "outputs": [
        {
          "output_type": "execute_result",
          "data": {
            "text/plain": [
              "radius_mean                0.730029\n",
              "texture_mean               0.415185\n",
              "perimeter_mean             0.742636\n",
              "area_mean                  0.708984\n",
              "smoothness_mean            0.358560\n",
              "compactness_mean           0.596534\n",
              "concavity_mean             0.696360\n",
              "concave points_mean        0.776614\n",
              "symmetry_mean              0.330499\n",
              "fractal_dimension_mean    -0.012838\n",
              "radius_se                  0.567134\n",
              "texture_se                -0.008303\n",
              "perimeter_se               0.556141\n",
              "area_se                    0.548236\n",
              "smoothness_se             -0.067016\n",
              "compactness_se             0.292999\n",
              "concavity_se               0.253730\n",
              "concave points_se          0.408042\n",
              "symmetry_se               -0.006522\n",
              "fractal_dimension_se       0.077972\n",
              "radius_worst               0.776454\n",
              "texture_worst              0.456903\n",
              "perimeter_worst            0.782914\n",
              "area_worst                 0.733825\n",
              "smoothness_worst           0.421465\n",
              "compactness_worst          0.590998\n",
              "concavity_worst            0.659610\n",
              "concave points_worst       0.793566\n",
              "symmetry_worst             0.416294\n",
              "fractal_dimension_worst    0.323872\n",
              "dtype: float64"
            ]
          },
          "metadata": {
            "tags": []
          },
          "execution_count": 22
        }
      ]
    },
    {
      "cell_type": "markdown",
      "metadata": {
        "id": "CUpcg-K7H-yI",
        "colab_type": "text"
      },
      "source": [
        "there are no strong negative correlations so we can filter only with the most positively correlated\n",
        "\n",
        "let's have a look at the top 8\n",
        "\n",
        "---\n",
        "\n",
        "ref:\n",
        "\n",
        "[sort by value](https://pandas.pydata.org/pandas-docs/stable/reference/api/pandas.Series.sort_values.html)\n",
        "\n",
        "[then sort by top n values](https://stackoverflow.com/questions/16958499/sort-pandas-dataframe-and-print-highest-n-values#36709634)  \n",
        "\n",
        "[slider](https://colab.research.google.com/notebooks/forms.ipynb#scrollTo=eFN7-fUKs-Bu)\n",
        "\n",
        "\n"
      ]
    },
    {
      "cell_type": "code",
      "metadata": {
        "id": "kdjbotebGaCw",
        "colab_type": "code",
        "cellView": "form",
        "colab": {
          "base_uri": "https://localhost:8080/",
          "height": 170
        },
        "outputId": "50383d07-9825-4235-9869-4157ad7ad269"
      },
      "source": [
        "#@title top n features { run: \"auto\" }\n",
        "sort_by = 8 #@param {type:\"slider\", min:1, max:30, step:1}\n",
        "\n",
        "corr_features.sort_values(ascending=False).head(sort_by)"
      ],
      "execution_count": null,
      "outputs": [
        {
          "output_type": "execute_result",
          "data": {
            "text/plain": [
              "concave points_worst    0.793566\n",
              "perimeter_worst         0.782914\n",
              "concave points_mean     0.776614\n",
              "radius_worst            0.776454\n",
              "perimeter_mean          0.742636\n",
              "area_worst              0.733825\n",
              "radius_mean             0.730029\n",
              "area_mean               0.708984\n",
              "dtype: float64"
            ]
          },
          "metadata": {
            "tags": []
          },
          "execution_count": 31
        }
      ]
    },
    {
      "cell_type": "markdown",
      "metadata": {
        "id": "oLxE97C5OOQY",
        "colab_type": "text"
      },
      "source": [
        "### keep only highly correlated features"
      ]
    },
    {
      "cell_type": "markdown",
      "metadata": {
        "id": "eUsv4IUILxx5",
        "colab_type": "text"
      },
      "source": [
        "alright now we can remove any features that have a very similar correlation\n"
      ]
    },
    {
      "cell_type": "markdown",
      "metadata": {
        "id": "zlM52R2sOrN0",
        "colab_type": "text"
      },
      "source": [
        "*example:*\n",
        "\n",
        ">concave points_mean     0.776614\n",
        "\n",
        "and\n",
        "\n",
        ">radius_worst            0.776454\n",
        "\n",
        "are very similar so we can remove one of them since either one will have a nearly identical effect on our prediction  \n",
        "\n",
        "radius seems the easier to of the two to measure so let's keep that and **drop concave points**"
      ]
    },
    {
      "cell_type": "markdown",
      "metadata": {
        "id": "NAJ68dVdPjTw",
        "colab_type": "text"
      },
      "source": [
        "other similar features:\n",
        "\n",
        ">area_worst              0.733825  \n",
        ">radius_mean             0.730029  \n",
        "\n",
        "let's **drop area_worst**"
      ]
    },
    {
      "cell_type": "code",
      "metadata": {
        "id": "cmcqF1yAJ-lH",
        "colab_type": "code",
        "colab": {
          "base_uri": "https://localhost:8080/",
          "height": 170
        },
        "outputId": "8eb8db0e-be38-4ff1-8e66-e41ca3590724"
      },
      "source": [
        "top_corr_features = corr_features.sort_values(ascending=False).head(8)\n",
        "\n",
        "top_corr_features"
      ],
      "execution_count": null,
      "outputs": [
        {
          "output_type": "execute_result",
          "data": {
            "text/plain": [
              "concave points_worst    0.793566\n",
              "perimeter_worst         0.782914\n",
              "concave points_mean     0.776614\n",
              "radius_worst            0.776454\n",
              "perimeter_mean          0.742636\n",
              "area_worst              0.733825\n",
              "radius_mean             0.730029\n",
              "area_mean               0.708984\n",
              "dtype: float64"
            ]
          },
          "metadata": {
            "tags": []
          },
          "execution_count": 34
        }
      ]
    },
    {
      "cell_type": "code",
      "metadata": {
        "id": "kWoHVylaPTih",
        "colab_type": "code",
        "colab": {}
      },
      "source": [
        "top_corr_features.drop(['concave points_mean', 'area_worst'], inplace=True)"
      ],
      "execution_count": null,
      "outputs": []
    },
    {
      "cell_type": "code",
      "metadata": {
        "id": "8v04ZsD3QiMt",
        "colab_type": "code",
        "colab": {
          "base_uri": "https://localhost:8080/",
          "height": 136
        },
        "outputId": "e46bfaf4-7431-4bdc-c06a-78d4125def3a"
      },
      "source": [
        "top_corr_features"
      ],
      "execution_count": null,
      "outputs": [
        {
          "output_type": "execute_result",
          "data": {
            "text/plain": [
              "concave points_worst    0.793566\n",
              "perimeter_worst         0.782914\n",
              "radius_worst            0.776454\n",
              "perimeter_mean          0.742636\n",
              "radius_mean             0.730029\n",
              "area_mean               0.708984\n",
              "dtype: float64"
            ]
          },
          "metadata": {
            "tags": []
          },
          "execution_count": 36
        }
      ]
    },
    {
      "cell_type": "code",
      "metadata": {
        "id": "X81HWCVBRIDG",
        "colab_type": "code",
        "colab": {
          "base_uri": "https://localhost:8080/",
          "height": 34
        },
        "outputId": "a5371a4f-21ee-4fc9-fee3-b7f9b7528e19"
      },
      "source": [
        "print(f\"great, now we have our top {len(top_corr_features)}!\")"
      ],
      "execution_count": null,
      "outputs": [
        {
          "output_type": "stream",
          "text": [
            "great, now we have our top 6!\n"
          ],
          "name": "stdout"
        }
      ]
    },
    {
      "cell_type": "markdown",
      "metadata": {
        "id": "k0ykuUcJZeG6",
        "colab_type": "text"
      },
      "source": [
        "### create and export the new, cleaned dataframe :D"
      ]
    },
    {
      "cell_type": "code",
      "metadata": {
        "id": "N4TJV1zrWh1c",
        "colab_type": "code",
        "colab": {
          "base_uri": "https://localhost:8080/",
          "height": 419
        },
        "outputId": "8af12056-2b1d-4f43-b1c3-83251afd8a92"
      },
      "source": [
        "# new cleaned dataframe\n",
        "\n",
        "cleaned_data = data.filter(['diagnosis',\n",
        "                            'concave points_worst',\n",
        "                            'perimeter_worst',\n",
        "                            'radius_worst',\n",
        "                            'perimeter_mean',\n",
        "                            'radius_mean',\n",
        "                            'area_mean'])\n",
        "\n",
        "cleaned_data"
      ],
      "execution_count": null,
      "outputs": [
        {
          "output_type": "execute_result",
          "data": {
            "text/html": [
              "<div>\n",
              "<style scoped>\n",
              "    .dataframe tbody tr th:only-of-type {\n",
              "        vertical-align: middle;\n",
              "    }\n",
              "\n",
              "    .dataframe tbody tr th {\n",
              "        vertical-align: top;\n",
              "    }\n",
              "\n",
              "    .dataframe thead th {\n",
              "        text-align: right;\n",
              "    }\n",
              "</style>\n",
              "<table border=\"1\" class=\"dataframe\">\n",
              "  <thead>\n",
              "    <tr style=\"text-align: right;\">\n",
              "      <th></th>\n",
              "      <th>diagnosis</th>\n",
              "      <th>concave points_worst</th>\n",
              "      <th>perimeter_worst</th>\n",
              "      <th>radius_worst</th>\n",
              "      <th>perimeter_mean</th>\n",
              "      <th>radius_mean</th>\n",
              "      <th>area_mean</th>\n",
              "    </tr>\n",
              "  </thead>\n",
              "  <tbody>\n",
              "    <tr>\n",
              "      <th>0</th>\n",
              "      <td>1</td>\n",
              "      <td>0.2654</td>\n",
              "      <td>184.60</td>\n",
              "      <td>25.380</td>\n",
              "      <td>122.80</td>\n",
              "      <td>17.99</td>\n",
              "      <td>1001.0</td>\n",
              "    </tr>\n",
              "    <tr>\n",
              "      <th>1</th>\n",
              "      <td>1</td>\n",
              "      <td>0.1860</td>\n",
              "      <td>158.80</td>\n",
              "      <td>24.990</td>\n",
              "      <td>132.90</td>\n",
              "      <td>20.57</td>\n",
              "      <td>1326.0</td>\n",
              "    </tr>\n",
              "    <tr>\n",
              "      <th>2</th>\n",
              "      <td>1</td>\n",
              "      <td>0.2430</td>\n",
              "      <td>152.50</td>\n",
              "      <td>23.570</td>\n",
              "      <td>130.00</td>\n",
              "      <td>19.69</td>\n",
              "      <td>1203.0</td>\n",
              "    </tr>\n",
              "    <tr>\n",
              "      <th>3</th>\n",
              "      <td>1</td>\n",
              "      <td>0.2575</td>\n",
              "      <td>98.87</td>\n",
              "      <td>14.910</td>\n",
              "      <td>77.58</td>\n",
              "      <td>11.42</td>\n",
              "      <td>386.1</td>\n",
              "    </tr>\n",
              "    <tr>\n",
              "      <th>4</th>\n",
              "      <td>1</td>\n",
              "      <td>0.1625</td>\n",
              "      <td>152.20</td>\n",
              "      <td>22.540</td>\n",
              "      <td>135.10</td>\n",
              "      <td>20.29</td>\n",
              "      <td>1297.0</td>\n",
              "    </tr>\n",
              "    <tr>\n",
              "      <th>...</th>\n",
              "      <td>...</td>\n",
              "      <td>...</td>\n",
              "      <td>...</td>\n",
              "      <td>...</td>\n",
              "      <td>...</td>\n",
              "      <td>...</td>\n",
              "      <td>...</td>\n",
              "    </tr>\n",
              "    <tr>\n",
              "      <th>564</th>\n",
              "      <td>1</td>\n",
              "      <td>0.2216</td>\n",
              "      <td>166.10</td>\n",
              "      <td>25.450</td>\n",
              "      <td>142.00</td>\n",
              "      <td>21.56</td>\n",
              "      <td>1479.0</td>\n",
              "    </tr>\n",
              "    <tr>\n",
              "      <th>565</th>\n",
              "      <td>1</td>\n",
              "      <td>0.1628</td>\n",
              "      <td>155.00</td>\n",
              "      <td>23.690</td>\n",
              "      <td>131.20</td>\n",
              "      <td>20.13</td>\n",
              "      <td>1261.0</td>\n",
              "    </tr>\n",
              "    <tr>\n",
              "      <th>566</th>\n",
              "      <td>1</td>\n",
              "      <td>0.1418</td>\n",
              "      <td>126.70</td>\n",
              "      <td>18.980</td>\n",
              "      <td>108.30</td>\n",
              "      <td>16.60</td>\n",
              "      <td>858.1</td>\n",
              "    </tr>\n",
              "    <tr>\n",
              "      <th>567</th>\n",
              "      <td>1</td>\n",
              "      <td>0.2650</td>\n",
              "      <td>184.60</td>\n",
              "      <td>25.740</td>\n",
              "      <td>140.10</td>\n",
              "      <td>20.60</td>\n",
              "      <td>1265.0</td>\n",
              "    </tr>\n",
              "    <tr>\n",
              "      <th>568</th>\n",
              "      <td>0</td>\n",
              "      <td>0.0000</td>\n",
              "      <td>59.16</td>\n",
              "      <td>9.456</td>\n",
              "      <td>47.92</td>\n",
              "      <td>7.76</td>\n",
              "      <td>181.0</td>\n",
              "    </tr>\n",
              "  </tbody>\n",
              "</table>\n",
              "<p>569 rows × 7 columns</p>\n",
              "</div>"
            ],
            "text/plain": [
              "     diagnosis  concave points_worst  ...  radius_mean  area_mean\n",
              "0            1                0.2654  ...        17.99     1001.0\n",
              "1            1                0.1860  ...        20.57     1326.0\n",
              "2            1                0.2430  ...        19.69     1203.0\n",
              "3            1                0.2575  ...        11.42      386.1\n",
              "4            1                0.1625  ...        20.29     1297.0\n",
              "..         ...                   ...  ...          ...        ...\n",
              "564          1                0.2216  ...        21.56     1479.0\n",
              "565          1                0.1628  ...        20.13     1261.0\n",
              "566          1                0.1418  ...        16.60      858.1\n",
              "567          1                0.2650  ...        20.60     1265.0\n",
              "568          0                0.0000  ...         7.76      181.0\n",
              "\n",
              "[569 rows x 7 columns]"
            ]
          },
          "metadata": {
            "tags": []
          },
          "execution_count": 38
        }
      ]
    },
    {
      "cell_type": "code",
      "metadata": {
        "id": "sKo0atf0X1-L",
        "colab_type": "code",
        "colab": {}
      },
      "source": [
        "# if you want to save to drive\n",
        "# cleaned_data.to_csv(\"drive/My Drive/cleaned_data.csv\", index=False)\n",
        "\n",
        "cleaned_data.to_csv(\"cleaned_data.csv\", index=False)"
      ],
      "execution_count": null,
      "outputs": []
    },
    {
      "cell_type": "code",
      "metadata": {
        "id": "3Vt4R_N-E9W-",
        "colab_type": "code",
        "colab": {
          "base_uri": "https://localhost:8080/",
          "height": 419
        },
        "outputId": "222b3b56-6b63-4000-f4ad-04cfcffdbc1d"
      },
      "source": [
        "# check df\n",
        "check_cleaned_data = pd.read_csv('cleaned_data.csv')\n",
        "check_cleaned_data"
      ],
      "execution_count": null,
      "outputs": [
        {
          "output_type": "execute_result",
          "data": {
            "text/html": [
              "<div>\n",
              "<style scoped>\n",
              "    .dataframe tbody tr th:only-of-type {\n",
              "        vertical-align: middle;\n",
              "    }\n",
              "\n",
              "    .dataframe tbody tr th {\n",
              "        vertical-align: top;\n",
              "    }\n",
              "\n",
              "    .dataframe thead th {\n",
              "        text-align: right;\n",
              "    }\n",
              "</style>\n",
              "<table border=\"1\" class=\"dataframe\">\n",
              "  <thead>\n",
              "    <tr style=\"text-align: right;\">\n",
              "      <th></th>\n",
              "      <th>diagnosis</th>\n",
              "      <th>concave points_worst</th>\n",
              "      <th>perimeter_worst</th>\n",
              "      <th>radius_worst</th>\n",
              "      <th>perimeter_mean</th>\n",
              "      <th>radius_mean</th>\n",
              "      <th>area_mean</th>\n",
              "    </tr>\n",
              "  </thead>\n",
              "  <tbody>\n",
              "    <tr>\n",
              "      <th>0</th>\n",
              "      <td>1</td>\n",
              "      <td>0.2654</td>\n",
              "      <td>184.60</td>\n",
              "      <td>25.380</td>\n",
              "      <td>122.80</td>\n",
              "      <td>17.99</td>\n",
              "      <td>1001.0</td>\n",
              "    </tr>\n",
              "    <tr>\n",
              "      <th>1</th>\n",
              "      <td>1</td>\n",
              "      <td>0.1860</td>\n",
              "      <td>158.80</td>\n",
              "      <td>24.990</td>\n",
              "      <td>132.90</td>\n",
              "      <td>20.57</td>\n",
              "      <td>1326.0</td>\n",
              "    </tr>\n",
              "    <tr>\n",
              "      <th>2</th>\n",
              "      <td>1</td>\n",
              "      <td>0.2430</td>\n",
              "      <td>152.50</td>\n",
              "      <td>23.570</td>\n",
              "      <td>130.00</td>\n",
              "      <td>19.69</td>\n",
              "      <td>1203.0</td>\n",
              "    </tr>\n",
              "    <tr>\n",
              "      <th>3</th>\n",
              "      <td>1</td>\n",
              "      <td>0.2575</td>\n",
              "      <td>98.87</td>\n",
              "      <td>14.910</td>\n",
              "      <td>77.58</td>\n",
              "      <td>11.42</td>\n",
              "      <td>386.1</td>\n",
              "    </tr>\n",
              "    <tr>\n",
              "      <th>4</th>\n",
              "      <td>1</td>\n",
              "      <td>0.1625</td>\n",
              "      <td>152.20</td>\n",
              "      <td>22.540</td>\n",
              "      <td>135.10</td>\n",
              "      <td>20.29</td>\n",
              "      <td>1297.0</td>\n",
              "    </tr>\n",
              "    <tr>\n",
              "      <th>...</th>\n",
              "      <td>...</td>\n",
              "      <td>...</td>\n",
              "      <td>...</td>\n",
              "      <td>...</td>\n",
              "      <td>...</td>\n",
              "      <td>...</td>\n",
              "      <td>...</td>\n",
              "    </tr>\n",
              "    <tr>\n",
              "      <th>564</th>\n",
              "      <td>1</td>\n",
              "      <td>0.2216</td>\n",
              "      <td>166.10</td>\n",
              "      <td>25.450</td>\n",
              "      <td>142.00</td>\n",
              "      <td>21.56</td>\n",
              "      <td>1479.0</td>\n",
              "    </tr>\n",
              "    <tr>\n",
              "      <th>565</th>\n",
              "      <td>1</td>\n",
              "      <td>0.1628</td>\n",
              "      <td>155.00</td>\n",
              "      <td>23.690</td>\n",
              "      <td>131.20</td>\n",
              "      <td>20.13</td>\n",
              "      <td>1261.0</td>\n",
              "    </tr>\n",
              "    <tr>\n",
              "      <th>566</th>\n",
              "      <td>1</td>\n",
              "      <td>0.1418</td>\n",
              "      <td>126.70</td>\n",
              "      <td>18.980</td>\n",
              "      <td>108.30</td>\n",
              "      <td>16.60</td>\n",
              "      <td>858.1</td>\n",
              "    </tr>\n",
              "    <tr>\n",
              "      <th>567</th>\n",
              "      <td>1</td>\n",
              "      <td>0.2650</td>\n",
              "      <td>184.60</td>\n",
              "      <td>25.740</td>\n",
              "      <td>140.10</td>\n",
              "      <td>20.60</td>\n",
              "      <td>1265.0</td>\n",
              "    </tr>\n",
              "    <tr>\n",
              "      <th>568</th>\n",
              "      <td>0</td>\n",
              "      <td>0.0000</td>\n",
              "      <td>59.16</td>\n",
              "      <td>9.456</td>\n",
              "      <td>47.92</td>\n",
              "      <td>7.76</td>\n",
              "      <td>181.0</td>\n",
              "    </tr>\n",
              "  </tbody>\n",
              "</table>\n",
              "<p>569 rows × 7 columns</p>\n",
              "</div>"
            ],
            "text/plain": [
              "     diagnosis  concave points_worst  ...  radius_mean  area_mean\n",
              "0            1                0.2654  ...        17.99     1001.0\n",
              "1            1                0.1860  ...        20.57     1326.0\n",
              "2            1                0.2430  ...        19.69     1203.0\n",
              "3            1                0.2575  ...        11.42      386.1\n",
              "4            1                0.1625  ...        20.29     1297.0\n",
              "..         ...                   ...  ...          ...        ...\n",
              "564          1                0.2216  ...        21.56     1479.0\n",
              "565          1                0.1628  ...        20.13     1261.0\n",
              "566          1                0.1418  ...        16.60      858.1\n",
              "567          1                0.2650  ...        20.60     1265.0\n",
              "568          0                0.0000  ...         7.76      181.0\n",
              "\n",
              "[569 rows x 7 columns]"
            ]
          },
          "metadata": {
            "tags": []
          },
          "execution_count": 41
        }
      ]
    },
    {
      "cell_type": "markdown",
      "metadata": {
        "id": "5g4nuDe_ZzB5",
        "colab_type": "text"
      },
      "source": [
        "## time to train!"
      ]
    },
    {
      "cell_type": "code",
      "metadata": {
        "id": "0VSrP2HAY7VS",
        "colab_type": "code",
        "colab": {}
      },
      "source": [
        "# but first let's split our cleaned data\n",
        "# let's also use random_state=42 (or anything else) for everything so the results will be the same each time we run this notebook\n",
        "\n",
        "X = cleaned_data.drop('diagnosis', axis=1)\n",
        "y= cleaned_data[\"diagnosis\"]\n",
        "\n",
        "X_train, X_test, y_train, y_test = train_test_split(X, y,\n",
        "                                                    train_size=0.8, test_size=0.2,\n",
        "                                                    random_state=42)"
      ],
      "execution_count": null,
      "outputs": []
    },
    {
      "cell_type": "markdown",
      "metadata": {
        "id": "X3r1QSVWfSQv",
        "colab_type": "text"
      },
      "source": [
        "### fit and score on tpot"
      ]
    },
    {
      "cell_type": "code",
      "metadata": {
        "id": "daoRIDzyaL6A",
        "colab_type": "code",
        "colab": {
          "base_uri": "https://localhost:8080/",
          "height": 1000,
          "referenced_widgets": [
            "ca0f13d640574ec59f6c76f2f75d29b6",
            "f7d700814708475bb950535822f8d418",
            "2961f0a9226a4027be005b0d6e2e89f8",
            "45a96b3dfde54d1ba554cb09a1d76ffe",
            "80cd12c2aaa14b01a8bf232aad066eaa",
            "4f2c799f2a254a20b509e40f941df3dc",
            "65427b0a13cd44bf84a6749f74a7e524",
            "b9c86a0c521849f986e46040ec18a78d"
          ]
        },
        "outputId": "d5f1e995-f905-4a59-e0f2-0734c7394471"
      },
      "source": [
        "tpot = TPOTClassifier(verbosity=2, early_stop=30, random_state=42)\n",
        "tpot.fit(X_train, y_train)\n",
        "print(tpot.score(X_test, y_test))"
      ],
      "execution_count": null,
      "outputs": [
        {
          "output_type": "display_data",
          "data": {
            "application/vnd.jupyter.widget-view+json": {
              "model_id": "ca0f13d640574ec59f6c76f2f75d29b6",
              "version_minor": 0,
              "version_major": 2
            },
            "text/plain": [
              "HBox(children=(FloatProgress(value=0.0, description='Optimization Progress', max=10100.0, style=ProgressStyle(…"
            ]
          },
          "metadata": {
            "tags": []
          }
        },
        {
          "output_type": "stream",
          "text": [
            "\n",
            "Generation 1 - Current best internal CV score: 0.9516483516483518\n",
            "Generation 2 - Current best internal CV score: 0.9516483516483518\n",
            "Generation 3 - Current best internal CV score: 0.953846153846154\n",
            "Generation 4 - Current best internal CV score: 0.953846153846154\n",
            "Generation 5 - Current best internal CV score: 0.9582417582417584\n",
            "Generation 6 - Current best internal CV score: 0.9582417582417584\n",
            "Generation 7 - Current best internal CV score: 0.9604395604395606\n",
            "Generation 8 - Current best internal CV score: 0.9604395604395606\n",
            "Generation 9 - Current best internal CV score: 0.9604395604395606\n",
            "Generation 10 - Current best internal CV score: 0.9604395604395606\n",
            "Generation 11 - Current best internal CV score: 0.9604395604395606\n",
            "Generation 12 - Current best internal CV score: 0.9604395604395606\n",
            "Generation 13 - Current best internal CV score: 0.9604395604395606\n",
            "Generation 14 - Current best internal CV score: 0.9604395604395606\n",
            "Generation 15 - Current best internal CV score: 0.9604395604395606\n",
            "Generation 16 - Current best internal CV score: 0.9604395604395606\n",
            "Generation 17 - Current best internal CV score: 0.9626373626373628\n",
            "Generation 18 - Current best internal CV score: 0.9626373626373628\n",
            "Generation 19 - Current best internal CV score: 0.9626373626373628\n",
            "Generation 20 - Current best internal CV score: 0.9626373626373628\n",
            "Generation 21 - Current best internal CV score: 0.9626373626373628\n",
            "Generation 22 - Current best internal CV score: 0.9626373626373628\n",
            "Generation 23 - Current best internal CV score: 0.9626373626373628\n",
            "Generation 24 - Current best internal CV score: 0.9626373626373628\n",
            "Generation 25 - Current best internal CV score: 0.9626373626373628\n",
            "Generation 26 - Current best internal CV score: 0.9626373626373628\n",
            "Generation 27 - Current best internal CV score: 0.9626373626373628\n",
            "Generation 28 - Current best internal CV score: 0.9626373626373628\n",
            "Generation 29 - Current best internal CV score: 0.9626373626373628\n",
            "Generation 30 - Current best internal CV score: 0.9626373626373628\n",
            "Generation 31 - Current best internal CV score: 0.9626373626373628\n",
            "Generation 32 - Current best internal CV score: 0.9626373626373628\n",
            "Generation 33 - Current best internal CV score: 0.9626373626373628\n",
            "Generation 34 - Current best internal CV score: 0.9670329670329672\n",
            "Generation 35 - Current best internal CV score: 0.9670329670329672\n",
            "Generation 36 - Current best internal CV score: 0.9670329670329672\n",
            "Generation 37 - Current best internal CV score: 0.9670329670329672\n",
            "Generation 38 - Current best internal CV score: 0.9670329670329672\n",
            "Generation 39 - Current best internal CV score: 0.9670329670329672\n",
            "Generation 40 - Current best internal CV score: 0.9670329670329672\n",
            "Generation 41 - Current best internal CV score: 0.9670329670329672\n",
            "Generation 42 - Current best internal CV score: 0.9670329670329672\n",
            "Generation 43 - Current best internal CV score: 0.9670329670329672\n",
            "Generation 44 - Current best internal CV score: 0.9670329670329672\n",
            "Generation 45 - Current best internal CV score: 0.9670329670329672\n",
            "Generation 46 - Current best internal CV score: 0.9670329670329672\n",
            "Generation 47 - Current best internal CV score: 0.9670329670329672\n",
            "Generation 48 - Current best internal CV score: 0.9670329670329672\n",
            "Generation 49 - Current best internal CV score: 0.9670329670329672\n",
            "Generation 50 - Current best internal CV score: 0.9670329670329672\n",
            "Generation 51 - Current best internal CV score: 0.9670329670329672\n",
            "Generation 52 - Current best internal CV score: 0.9670329670329672\n",
            "Generation 53 - Current best internal CV score: 0.9670329670329672\n",
            "Generation 54 - Current best internal CV score: 0.9670329670329672\n",
            "Generation 55 - Current best internal CV score: 0.9670329670329672\n",
            "Generation 56 - Current best internal CV score: 0.9670329670329672\n",
            "Generation 57 - Current best internal CV score: 0.9670329670329672\n",
            "Generation 58 - Current best internal CV score: 0.9670329670329672\n",
            "Generation 59 - Current best internal CV score: 0.9670329670329672\n",
            "Generation 60 - Current best internal CV score: 0.9670329670329672\n",
            "Generation 61 - Current best internal CV score: 0.9670329670329672\n",
            "Generation 62 - Current best internal CV score: 0.9670329670329672\n",
            "Generation 63 - Current best internal CV score: 0.9670329670329672\n",
            "Generation 64 - Current best internal CV score: 0.9670329670329672\n",
            "Generation 65 - Current best internal CV score: 0.9670329670329672\n",
            "Generation 66 - Current best internal CV score: 0.9670329670329672\n",
            "Generation 67 - Current best internal CV score: 0.9670329670329672\n",
            "Generation 68 - Current best internal CV score: 0.9670329670329672\n",
            "The optimized pipeline was not improved after evaluating 30 more generations. Will end the optimization process.\n",
            "\n",
            "TPOT closed prematurely. Will use the current best pipeline.\n",
            "\n",
            "Best pipeline: ExtraTreesClassifier(RBFSampler(StandardScaler(input_matrix), gamma=0.8500000000000001), bootstrap=False, criterion=entropy, max_features=0.55, min_samples_leaf=10, min_samples_split=15, n_estimators=100)\n",
            "0.9649122807017544\n"
          ],
          "name": "stdout"
        }
      ]
    },
    {
      "cell_type": "markdown",
      "metadata": {
        "id": "Vj0WtI1T7isJ",
        "colab_type": "text"
      },
      "source": [
        "### export and then run the exported pipeline"
      ]
    },
    {
      "cell_type": "code",
      "metadata": {
        "id": "IHcgS98zxY6m",
        "colab_type": "code",
        "colab": {}
      },
      "source": [
        "# to save to drive use this\n",
        "# tpot.export(\"drive/My Drive/cleaned_data_pipeline.py\")\n"
      ],
      "execution_count": null,
      "outputs": []
    },
    {
      "cell_type": "code",
      "metadata": {
        "id": "oOCHA8ORxrdx",
        "colab_type": "code",
        "colab": {}
      },
      "source": [
        "tpot.export('cleaned_data_pipeline.py')"
      ],
      "execution_count": null,
      "outputs": []
    },
    {
      "cell_type": "markdown",
      "metadata": {
        "id": "AehK-EirpTf4",
        "colab_type": "text"
      },
      "source": [
        "## exported pipeline"
      ]
    },
    {
      "cell_type": "code",
      "metadata": {
        "id": "iFYgKZ_hnUT4",
        "colab_type": "code",
        "colab": {}
      },
      "source": [
        "import numpy as np\n",
        "import pandas as pd\n",
        "from sklearn.ensemble import ExtraTreesClassifier\n",
        "from sklearn.kernel_approximation import RBFSampler\n",
        "from sklearn.model_selection import train_test_split\n",
        "from sklearn.pipeline import make_pipeline\n",
        "from sklearn.preprocessing import StandardScaler\n",
        "from tpot.export_utils import set_param_recursive\n",
        "\n",
        "# NOTE: Make sure that the outcome column is labeled 'target' in the data file\n",
        "tpot_data = pd.read_csv('cleaned_data.csv')\n",
        "features = tpot_data.drop('diagnosis', axis=1)\n",
        "training_features, testing_features, training_target, testing_target = \\\n",
        "            train_test_split(features, tpot_data['diagnosis'], random_state=42, test_size=0.2)\n",
        "\n",
        "# Average CV score on the training set was: 0.9670329670329672\n",
        "exported_pipeline = make_pipeline(\n",
        "    StandardScaler(),\n",
        "    RBFSampler(gamma=0.8500000000000001),\n",
        "    ExtraTreesClassifier(bootstrap=False, criterion=\"entropy\", max_features=0.55, min_samples_leaf=10, min_samples_split=15, n_estimators=100)\n",
        ")\n",
        "# Fix random state for all the steps in exported pipeline\n",
        "set_param_recursive(exported_pipeline.steps, 'random_state', 42)\n",
        "\n",
        "exported_pipeline.fit(training_features, training_target)\n",
        "results = exported_pipeline.predict(testing_features)\n"
      ],
      "execution_count": null,
      "outputs": []
    },
    {
      "cell_type": "markdown",
      "metadata": {
        "id": "z0osme8nwYRG",
        "colab_type": "text"
      },
      "source": [
        "## evaluate the model"
      ]
    },
    {
      "cell_type": "code",
      "metadata": {
        "id": "9cjy9VqFqyeA",
        "colab_type": "code",
        "colab": {
          "base_uri": "https://localhost:8080/",
          "height": 119
        },
        "outputId": "37fa09e8-1bdd-4793-b7bb-74886b778104"
      },
      "source": [
        "results"
      ],
      "execution_count": null,
      "outputs": [
        {
          "output_type": "execute_result",
          "data": {
            "text/plain": [
              "array([0, 1, 1, 0, 0, 1, 1, 1, 1, 0, 0, 1, 0, 0, 0, 1, 0, 0, 0, 1, 1, 0,\n",
              "       1, 0, 0, 0, 0, 0, 0, 1, 0, 0, 0, 0, 0, 0, 1, 0, 1, 0, 0, 1, 0, 0,\n",
              "       0, 0, 0, 0, 0, 0, 1, 1, 0, 0, 0, 0, 0, 1, 1, 0, 0, 1, 1, 0, 0, 0,\n",
              "       1, 1, 0, 0, 1, 1, 0, 1, 0, 0, 0, 1, 0, 0, 1, 0, 0, 1, 1, 1, 1, 1,\n",
              "       0, 0, 0, 0, 0, 0, 0, 0, 1, 1, 0, 1, 1, 0, 1, 1, 0, 0, 0, 1, 1, 0,\n",
              "       1, 0, 0, 1])"
            ]
          },
          "metadata": {
            "tags": []
          },
          "execution_count": 99
        }
      ]
    },
    {
      "cell_type": "code",
      "metadata": {
        "id": "25W5XoWfuBEX",
        "colab_type": "code",
        "colab": {
          "base_uri": "https://localhost:8080/",
          "height": 1000
        },
        "outputId": "36641a74-502c-4828-f151-97cba76a17da"
      },
      "source": [
        "predicted_probabilities = exported_pipeline.predict_proba(testing_features)\n",
        "predicted_probabilities"
      ],
      "execution_count": null,
      "outputs": [
        {
          "output_type": "execute_result",
          "data": {
            "text/plain": [
              "array([[8.84220134e-01, 1.15779866e-01],\n",
              "       [6.72727273e-03, 9.93272727e-01],\n",
              "       [1.67703349e-02, 9.83229665e-01],\n",
              "       [9.93983974e-01, 6.01602564e-03],\n",
              "       [9.95455586e-01, 4.54441392e-03],\n",
              "       [5.95252576e-02, 9.40474742e-01],\n",
              "       [5.48449862e-02, 9.45155014e-01],\n",
              "       [5.56852332e-02, 9.44314767e-01],\n",
              "       [1.27481157e-01, 8.72518843e-01],\n",
              "       [9.72933198e-01, 2.70668025e-02],\n",
              "       [1.00000000e+00, 0.00000000e+00],\n",
              "       [2.58681874e-02, 9.74131813e-01],\n",
              "       [8.02246726e-01, 1.97753274e-01],\n",
              "       [5.98221203e-01, 4.01778797e-01],\n",
              "       [9.72013793e-01, 2.79862068e-02],\n",
              "       [8.18284375e-02, 9.18171563e-01],\n",
              "       [8.99240223e-01, 1.00759777e-01],\n",
              "       [9.89944444e-01, 1.00555556e-02],\n",
              "       [7.51742918e-01, 2.48257082e-01],\n",
              "       [3.40909091e-03, 9.96590909e-01],\n",
              "       [3.68640277e-01, 6.31359723e-01],\n",
              "       [9.90867041e-01, 9.13295915e-03],\n",
              "       [2.93405973e-02, 9.70659403e-01],\n",
              "       [9.93183081e-01, 6.81691919e-03],\n",
              "       [9.99000000e-01, 1.00000000e-03],\n",
              "       [9.91958933e-01, 8.04106678e-03],\n",
              "       [9.83271562e-01, 1.67284382e-02],\n",
              "       [9.93615385e-01, 6.38461538e-03],\n",
              "       [9.80451015e-01, 1.95489853e-02],\n",
              "       [3.00000000e-03, 9.97000000e-01],\n",
              "       [9.97747253e-01, 2.25274725e-03],\n",
              "       [9.77441981e-01, 2.25580186e-02],\n",
              "       [9.96868687e-01, 3.13131313e-03],\n",
              "       [9.31625501e-01, 6.83744989e-02],\n",
              "       [9.98000000e-01, 2.00000000e-03],\n",
              "       [9.86452665e-01, 1.35473348e-02],\n",
              "       [2.20479802e-01, 7.79520198e-01],\n",
              "       [9.67732426e-01, 3.22675739e-02],\n",
              "       [0.00000000e+00, 1.00000000e+00],\n",
              "       [9.15657214e-01, 8.43427856e-02],\n",
              "       [9.94638889e-01, 5.36111111e-03],\n",
              "       [3.23684415e-02, 9.67631558e-01],\n",
              "       [9.86517094e-01, 1.34829060e-02],\n",
              "       [9.37267539e-01, 6.27324607e-02],\n",
              "       [9.84481249e-01, 1.55187506e-02],\n",
              "       [9.86418906e-01, 1.35810937e-02],\n",
              "       [9.95959596e-01, 4.04040404e-03],\n",
              "       [9.62448123e-01, 3.75518771e-02],\n",
              "       [9.60545380e-01, 3.94546203e-02],\n",
              "       [9.53994997e-01, 4.60050030e-02],\n",
              "       [7.69230769e-04, 9.99230769e-01],\n",
              "       [1.00000000e-03, 9.99000000e-01],\n",
              "       [9.42846440e-01, 5.71535605e-02],\n",
              "       [9.59609293e-01, 4.03907073e-02],\n",
              "       [9.97750000e-01, 2.25000000e-03],\n",
              "       [9.12393406e-01, 8.76065941e-02],\n",
              "       [9.94443678e-01, 5.55632173e-03],\n",
              "       [9.99998809e-02, 9.00000119e-01],\n",
              "       [1.91717075e-02, 9.80828292e-01],\n",
              "       [9.97009038e-01, 2.99096225e-03],\n",
              "       [9.94462418e-01, 5.53758170e-03],\n",
              "       [7.69047619e-03, 9.92309524e-01],\n",
              "       [1.53585859e-02, 9.84641414e-01],\n",
              "       [9.17247725e-01, 8.27522748e-02],\n",
              "       [9.99444444e-01, 5.55555556e-04],\n",
              "       [9.40521171e-01, 5.94788293e-02],\n",
              "       [0.00000000e+00, 1.00000000e+00],\n",
              "       [1.52424242e-02, 9.84757576e-01],\n",
              "       [9.97541667e-01, 2.45833333e-03],\n",
              "       [9.54564270e-01, 4.54357301e-02],\n",
              "       [7.19445368e-02, 9.28055463e-01],\n",
              "       [0.00000000e+00, 1.00000000e+00],\n",
              "       [9.86595588e-01, 1.34044118e-02],\n",
              "       [5.12791673e-02, 9.48720833e-01],\n",
              "       [8.94076287e-01, 1.05923713e-01],\n",
              "       [9.10993844e-01, 8.90061556e-02],\n",
              "       [9.97125000e-01, 2.87500000e-03],\n",
              "       [4.87305859e-01, 5.12694141e-01],\n",
              "       [9.91321429e-01, 8.67857143e-03],\n",
              "       [8.94452697e-01, 1.05547303e-01],\n",
              "       [9.91459721e-02, 9.00854028e-01],\n",
              "       [9.80864066e-01, 1.91359335e-02],\n",
              "       [8.00083925e-01, 1.99916075e-01],\n",
              "       [2.90909091e-03, 9.97090909e-01],\n",
              "       [7.37475487e-02, 9.26252451e-01],\n",
              "       [1.20669856e-02, 9.87933014e-01],\n",
              "       [3.71749208e-02, 9.62825079e-01],\n",
              "       [6.66666667e-04, 9.99333333e-01],\n",
              "       [9.87017728e-01, 1.29822716e-02],\n",
              "       [9.52085435e-01, 4.79145652e-02],\n",
              "       [9.17570655e-01, 8.24293449e-02],\n",
              "       [6.98551004e-01, 3.01448996e-01],\n",
              "       [8.26879079e-01, 1.73120921e-01],\n",
              "       [9.89197691e-01, 1.08023088e-02],\n",
              "       [9.92946429e-01, 7.05357143e-03],\n",
              "       [9.96868687e-01, 3.13131313e-03],\n",
              "       [3.11111111e-03, 9.96888889e-01],\n",
              "       [6.71345029e-03, 9.93286550e-01],\n",
              "       [9.98263889e-01, 1.73611111e-03],\n",
              "       [9.09090909e-04, 9.99090909e-01],\n",
              "       [7.94147957e-03, 9.92058520e-01],\n",
              "       [9.76626227e-01, 2.33737726e-02],\n",
              "       [6.66666667e-04, 9.99333333e-01],\n",
              "       [9.09090909e-04, 9.99090909e-01],\n",
              "       [9.60435105e-01, 3.95648950e-02],\n",
              "       [9.79677642e-01, 2.03223580e-02],\n",
              "       [9.67992899e-01, 3.20071007e-02],\n",
              "       [5.23290328e-02, 9.47670967e-01],\n",
              "       [4.05007154e-01, 5.94992846e-01],\n",
              "       [8.93890317e-01, 1.06109683e-01],\n",
              "       [2.22289377e-02, 9.77771062e-01],\n",
              "       [9.93424242e-01, 6.57575758e-03],\n",
              "       [9.87166667e-01, 1.28333333e-02],\n",
              "       [1.27924691e-01, 8.72075309e-01]])"
            ]
          },
          "metadata": {
            "tags": []
          },
          "execution_count": 100
        }
      ]
    },
    {
      "cell_type": "code",
      "metadata": {
        "id": "_0HlLpxsu3Bl",
        "colab_type": "code",
        "colab": {
          "base_uri": "https://localhost:8080/",
          "height": 1000
        },
        "outputId": "f59de8d5-a8ba-45a1-d88c-b4e6e03b8021"
      },
      "source": [
        "for B, M in predicted_probabilities:\n",
        "  print(f\"{B*100:.2f}% chance of being benign | {M*100:.2f}% chance of being malignant\")"
      ],
      "execution_count": null,
      "outputs": [
        {
          "output_type": "stream",
          "text": [
            "88.42% chance of being benign | 11.58% chance of being malignant\n",
            "0.67% chance of being benign | 99.33% chance of being malignant\n",
            "1.68% chance of being benign | 98.32% chance of being malignant\n",
            "99.40% chance of being benign | 0.60% chance of being malignant\n",
            "99.55% chance of being benign | 0.45% chance of being malignant\n",
            "5.95% chance of being benign | 94.05% chance of being malignant\n",
            "5.48% chance of being benign | 94.52% chance of being malignant\n",
            "5.57% chance of being benign | 94.43% chance of being malignant\n",
            "12.75% chance of being benign | 87.25% chance of being malignant\n",
            "97.29% chance of being benign | 2.71% chance of being malignant\n",
            "100.00% chance of being benign | 0.00% chance of being malignant\n",
            "2.59% chance of being benign | 97.41% chance of being malignant\n",
            "80.22% chance of being benign | 19.78% chance of being malignant\n",
            "59.82% chance of being benign | 40.18% chance of being malignant\n",
            "97.20% chance of being benign | 2.80% chance of being malignant\n",
            "8.18% chance of being benign | 91.82% chance of being malignant\n",
            "89.92% chance of being benign | 10.08% chance of being malignant\n",
            "98.99% chance of being benign | 1.01% chance of being malignant\n",
            "75.17% chance of being benign | 24.83% chance of being malignant\n",
            "0.34% chance of being benign | 99.66% chance of being malignant\n",
            "36.86% chance of being benign | 63.14% chance of being malignant\n",
            "99.09% chance of being benign | 0.91% chance of being malignant\n",
            "2.93% chance of being benign | 97.07% chance of being malignant\n",
            "99.32% chance of being benign | 0.68% chance of being malignant\n",
            "99.90% chance of being benign | 0.10% chance of being malignant\n",
            "99.20% chance of being benign | 0.80% chance of being malignant\n",
            "98.33% chance of being benign | 1.67% chance of being malignant\n",
            "99.36% chance of being benign | 0.64% chance of being malignant\n",
            "98.05% chance of being benign | 1.95% chance of being malignant\n",
            "0.30% chance of being benign | 99.70% chance of being malignant\n",
            "99.77% chance of being benign | 0.23% chance of being malignant\n",
            "97.74% chance of being benign | 2.26% chance of being malignant\n",
            "99.69% chance of being benign | 0.31% chance of being malignant\n",
            "93.16% chance of being benign | 6.84% chance of being malignant\n",
            "99.80% chance of being benign | 0.20% chance of being malignant\n",
            "98.65% chance of being benign | 1.35% chance of being malignant\n",
            "22.05% chance of being benign | 77.95% chance of being malignant\n",
            "96.77% chance of being benign | 3.23% chance of being malignant\n",
            "0.00% chance of being benign | 100.00% chance of being malignant\n",
            "91.57% chance of being benign | 8.43% chance of being malignant\n",
            "99.46% chance of being benign | 0.54% chance of being malignant\n",
            "3.24% chance of being benign | 96.76% chance of being malignant\n",
            "98.65% chance of being benign | 1.35% chance of being malignant\n",
            "93.73% chance of being benign | 6.27% chance of being malignant\n",
            "98.45% chance of being benign | 1.55% chance of being malignant\n",
            "98.64% chance of being benign | 1.36% chance of being malignant\n",
            "99.60% chance of being benign | 0.40% chance of being malignant\n",
            "96.24% chance of being benign | 3.76% chance of being malignant\n",
            "96.05% chance of being benign | 3.95% chance of being malignant\n",
            "95.40% chance of being benign | 4.60% chance of being malignant\n",
            "0.08% chance of being benign | 99.92% chance of being malignant\n",
            "0.10% chance of being benign | 99.90% chance of being malignant\n",
            "94.28% chance of being benign | 5.72% chance of being malignant\n",
            "95.96% chance of being benign | 4.04% chance of being malignant\n",
            "99.78% chance of being benign | 0.23% chance of being malignant\n",
            "91.24% chance of being benign | 8.76% chance of being malignant\n",
            "99.44% chance of being benign | 0.56% chance of being malignant\n",
            "10.00% chance of being benign | 90.00% chance of being malignant\n",
            "1.92% chance of being benign | 98.08% chance of being malignant\n",
            "99.70% chance of being benign | 0.30% chance of being malignant\n",
            "99.45% chance of being benign | 0.55% chance of being malignant\n",
            "0.77% chance of being benign | 99.23% chance of being malignant\n",
            "1.54% chance of being benign | 98.46% chance of being malignant\n",
            "91.72% chance of being benign | 8.28% chance of being malignant\n",
            "99.94% chance of being benign | 0.06% chance of being malignant\n",
            "94.05% chance of being benign | 5.95% chance of being malignant\n",
            "0.00% chance of being benign | 100.00% chance of being malignant\n",
            "1.52% chance of being benign | 98.48% chance of being malignant\n",
            "99.75% chance of being benign | 0.25% chance of being malignant\n",
            "95.46% chance of being benign | 4.54% chance of being malignant\n",
            "7.19% chance of being benign | 92.81% chance of being malignant\n",
            "0.00% chance of being benign | 100.00% chance of being malignant\n",
            "98.66% chance of being benign | 1.34% chance of being malignant\n",
            "5.13% chance of being benign | 94.87% chance of being malignant\n",
            "89.41% chance of being benign | 10.59% chance of being malignant\n",
            "91.10% chance of being benign | 8.90% chance of being malignant\n",
            "99.71% chance of being benign | 0.29% chance of being malignant\n",
            "48.73% chance of being benign | 51.27% chance of being malignant\n",
            "99.13% chance of being benign | 0.87% chance of being malignant\n",
            "89.45% chance of being benign | 10.55% chance of being malignant\n",
            "9.91% chance of being benign | 90.09% chance of being malignant\n",
            "98.09% chance of being benign | 1.91% chance of being malignant\n",
            "80.01% chance of being benign | 19.99% chance of being malignant\n",
            "0.29% chance of being benign | 99.71% chance of being malignant\n",
            "7.37% chance of being benign | 92.63% chance of being malignant\n",
            "1.21% chance of being benign | 98.79% chance of being malignant\n",
            "3.72% chance of being benign | 96.28% chance of being malignant\n",
            "0.07% chance of being benign | 99.93% chance of being malignant\n",
            "98.70% chance of being benign | 1.30% chance of being malignant\n",
            "95.21% chance of being benign | 4.79% chance of being malignant\n",
            "91.76% chance of being benign | 8.24% chance of being malignant\n",
            "69.86% chance of being benign | 30.14% chance of being malignant\n",
            "82.69% chance of being benign | 17.31% chance of being malignant\n",
            "98.92% chance of being benign | 1.08% chance of being malignant\n",
            "99.29% chance of being benign | 0.71% chance of being malignant\n",
            "99.69% chance of being benign | 0.31% chance of being malignant\n",
            "0.31% chance of being benign | 99.69% chance of being malignant\n",
            "0.67% chance of being benign | 99.33% chance of being malignant\n",
            "99.83% chance of being benign | 0.17% chance of being malignant\n",
            "0.09% chance of being benign | 99.91% chance of being malignant\n",
            "0.79% chance of being benign | 99.21% chance of being malignant\n",
            "97.66% chance of being benign | 2.34% chance of being malignant\n",
            "0.07% chance of being benign | 99.93% chance of being malignant\n",
            "0.09% chance of being benign | 99.91% chance of being malignant\n",
            "96.04% chance of being benign | 3.96% chance of being malignant\n",
            "97.97% chance of being benign | 2.03% chance of being malignant\n",
            "96.80% chance of being benign | 3.20% chance of being malignant\n",
            "5.23% chance of being benign | 94.77% chance of being malignant\n",
            "40.50% chance of being benign | 59.50% chance of being malignant\n",
            "89.39% chance of being benign | 10.61% chance of being malignant\n",
            "2.22% chance of being benign | 97.78% chance of being malignant\n",
            "99.34% chance of being benign | 0.66% chance of being malignant\n",
            "98.72% chance of being benign | 1.28% chance of being malignant\n",
            "12.79% chance of being benign | 87.21% chance of being malignant\n"
          ],
          "name": "stdout"
        }
      ]
    },
    {
      "cell_type": "code",
      "metadata": {
        "id": "9esXH44-n9pa",
        "colab_type": "code",
        "colab": {
          "base_uri": "https://localhost:8080/",
          "height": 34
        },
        "outputId": "d9ef6472-81f6-43e9-8e3d-a3ad8cde123e"
      },
      "source": [
        "len(testing_target)"
      ],
      "execution_count": null,
      "outputs": [
        {
          "output_type": "execute_result",
          "data": {
            "text/plain": [
              "114"
            ]
          },
          "metadata": {
            "tags": []
          },
          "execution_count": 54
        }
      ]
    },
    {
      "cell_type": "code",
      "metadata": {
        "id": "teL8xx0ewey_",
        "colab_type": "code",
        "colab": {
          "base_uri": "https://localhost:8080/",
          "height": 34
        },
        "outputId": "82d36d9b-0a0f-43b7-a80b-4fa1350f5cce"
      },
      "source": [
        "len(y_test)"
      ],
      "execution_count": null,
      "outputs": [
        {
          "output_type": "execute_result",
          "data": {
            "text/plain": [
              "114"
            ]
          },
          "metadata": {
            "tags": []
          },
          "execution_count": 81
        }
      ]
    },
    {
      "cell_type": "code",
      "metadata": {
        "id": "1p4Mgpb9syOk",
        "colab_type": "code",
        "colab": {
          "base_uri": "https://localhost:8080/",
          "height": 34
        },
        "outputId": "c4f0ba5e-6ec4-4bc1-fa83-9a342820b6af"
      },
      "source": [
        "from sklearn.metrics import accuracy_score\n",
        "\n",
        "accuracy_score(testing_target, results, normalize=True)"
      ],
      "execution_count": null,
      "outputs": [
        {
          "output_type": "execute_result",
          "data": {
            "text/plain": [
              "0.9649122807017544"
            ]
          },
          "metadata": {
            "tags": []
          },
          "execution_count": 57
        }
      ]
    },
    {
      "cell_type": "code",
      "metadata": {
        "id": "8_cn5yXQtdg4",
        "colab_type": "code",
        "colab": {
          "base_uri": "https://localhost:8080/",
          "height": 51
        },
        "outputId": "a86b48d9-bf66-43ed-c030-5449f3a41c24"
      },
      "source": [
        "from sklearn.metrics import confusion_matrix\n",
        "\n",
        "confusion_matrix(testing_target, results)"
      ],
      "execution_count": null,
      "outputs": [
        {
          "output_type": "execute_result",
          "data": {
            "text/plain": [
              "array([[69,  2],\n",
              "       [ 2, 41]])"
            ]
          },
          "metadata": {
            "tags": []
          },
          "execution_count": 61
        }
      ]
    },
    {
      "cell_type": "code",
      "metadata": {
        "id": "tAK5ptXoz1k2",
        "colab_type": "code",
        "colab": {
          "base_uri": "https://localhost:8080/",
          "height": 296
        },
        "outputId": "d01652e1-73b6-419c-c613-0f7e5912eb6b"
      },
      "source": [
        "from sklearn.metrics import plot_confusion_matrix\n",
        "\n",
        "plot_confusion_matrix(exported_pipeline, testing_features, testing_target, display_labels=['benign', 'malignant'], cmap='Blues')\n",
        "\n",
        "# testing_features = X_test\n",
        "# testing_target = y_test"
      ],
      "execution_count": null,
      "outputs": [
        {
          "output_type": "execute_result",
          "data": {
            "text/plain": [
              "<sklearn.metrics._plot.confusion_matrix.ConfusionMatrixDisplay at 0x7fb1b6720f60>"
            ]
          },
          "metadata": {
            "tags": []
          },
          "execution_count": 85
        },
        {
          "output_type": "display_data",
          "data": {
            "image/png": "[encoded data removed]",
            "text/plain": [
              "<Figure size 432x288 with 2 Axes>"
            ]
          },
          "metadata": {
            "tags": [],
            "needs_background": "light"
          }
        }
      ]
    },
    {
      "cell_type": "code",
      "metadata": {
        "id": "XCwhpPXirRgY",
        "colab_type": "code",
        "colab": {
          "base_uri": "https://localhost:8080/",
          "height": 296
        },
        "outputId": "a845570e-1594-4a03-c860-aa4878877447"
      },
      "source": [
        "# as you can see they produce the same confusion matrix\n",
        "\n",
        "from sklearn.metrics import plot_confusion_matrix\n",
        "\n",
        "plot_confusion_matrix(exported_pipeline, X_test, y_test, display_labels=['benign', 'malignant'], cmap='Blues')"
      ],
      "execution_count": null,
      "outputs": [
        {
          "output_type": "execute_result",
          "data": {
            "text/plain": [
              "<sklearn.metrics._plot.confusion_matrix.ConfusionMatrixDisplay at 0x7fb1b696bbe0>"
            ]
          },
          "metadata": {
            "tags": []
          },
          "execution_count": 74
        },
        {
          "output_type": "display_data",
          "data": {
            "image/png": "[encoded data removed]",
            "text/plain": [
              "<Figure size 432x288 with 2 Axes>"
            ]
          },
          "metadata": {
            "tags": [],
            "needs_background": "light"
          }
        }
      ]
    },
    {
      "cell_type": "code",
      "metadata": {
        "id": "guFY-zLeuJVk",
        "colab_type": "code",
        "colab": {
          "base_uri": "https://localhost:8080/",
          "height": 170
        },
        "outputId": "2c5c0b15-478c-41ba-8ce9-a5bf19f560eb"
      },
      "source": [
        "from sklearn.metrics import classification_report\n",
        "\n",
        "print(classification_report(testing_target, results))"
      ],
      "execution_count": null,
      "outputs": [
        {
          "output_type": "stream",
          "text": [
            "              precision    recall  f1-score   support\n",
            "\n",
            "           0       0.97      0.97      0.97        71\n",
            "           1       0.95      0.95      0.95        43\n",
            "\n",
            "    accuracy                           0.96       114\n",
            "   macro avg       0.96      0.96      0.96       114\n",
            "weighted avg       0.96      0.96      0.96       114\n",
            "\n"
          ],
          "name": "stdout"
        }
      ]
    },
    {
      "cell_type": "code",
      "metadata": {
        "id": "w-bfvQinvkQU",
        "colab_type": "code",
        "colab": {
          "base_uri": "https://localhost:8080/",
          "height": 85
        },
        "outputId": "50ff6726-65e4-4427-f8fa-1107ccb969f7"
      },
      "source": [
        "#extracting true_positives, false_positives, true_negatives, false_negatives\n",
        "tn, fp, fn, tp = confusion_matrix(testing_target, results).ravel()\n",
        "print(\"True Negatives: \",tn)\n",
        "print(\"False Positives: \",fp)\n",
        "print(\"False Negatives: \",fn)\n",
        "print(\"True Positives: \",tp)"
      ],
      "execution_count": null,
      "outputs": [
        {
          "output_type": "stream",
          "text": [
            "True Negatives:  69\n",
            "False Positives:  2\n",
            "False Negatives:  2\n",
            "True Positives:  41\n"
          ],
          "name": "stdout"
        }
      ]
    },
    {
      "cell_type": "code",
      "metadata": {
        "id": "u0bn3cbjxjHE",
        "colab_type": "code",
        "colab": {
          "base_uri": "https://localhost:8080/",
          "height": 34
        },
        "outputId": "2fad4e66-dfec-43de-9403-17541a94be34"
      },
      "source": [
        "#Accuracy\n",
        "Accuracy = (tn+tp)*100/(tp+tn+fp+fn) \n",
        "print(f\"Accuracy {Accuracy}\")"
      ],
      "execution_count": null,
      "outputs": [
        {
          "output_type": "stream",
          "text": [
            "Accuracy 96.49122807017544\n"
          ],
          "name": "stdout"
        }
      ]
    },
    {
      "cell_type": "code",
      "metadata": {
        "id": "szHj0owTzG6k",
        "colab_type": "code",
        "colab": {
          "base_uri": "https://localhost:8080/",
          "height": 102
        },
        "outputId": "3f70b900-e302-4b32-b59c-1fc078eb837a"
      },
      "source": [
        "tnr = tn/(tn+fn)*100\n",
        "fpr = fp/(tp+fp)*100\n",
        "fnr = fn/(tn+fn)*100\n",
        "tpr = tp/(fp+tp)*100\n",
        "\n",
        "print(f\"True negative rate: {tnr:.2f}%\")\n",
        "print(f\"False Positive rate: {fpr:.2f}%\")\n",
        "print(f\"False Negative rate: {fnr:.2f}%\")\n",
        "print(f\"True Positive rate: {tpr:.2f}%\")\n",
        "print(f\"General accuracy score: {Accuracy:.2f}\")\n"
      ],
      "execution_count": null,
      "outputs": [
        {
          "output_type": "stream",
          "text": [
            "True negative rate: 97.18%\n",
            "False Positive rate: 4.65%\n",
            "False Negative rate: 2.82%\n",
            "True Positive rate: 95.35%\n",
            "General accuracy score: 96.49\n"
          ],
          "name": "stdout"
        }
      ]
    },
    {
      "cell_type": "markdown",
      "metadata": {
        "id": "rkpMCVq9wlg9",
        "colab_type": "text"
      },
      "source": [
        "## pickle the model"
      ]
    },
    {
      "cell_type": "markdown",
      "metadata": {
        "id": "VafHGYY_ytx-",
        "colab_type": "text"
      },
      "source": [
        "### save pkl"
      ]
    },
    {
      "cell_type": "code",
      "metadata": {
        "id": "jkVVIJdb0qCU",
        "colab_type": "code",
        "colab": {}
      },
      "source": [
        "import pickle\n",
        "\n",
        "# to save to drive\n",
        "# pickle.dump(exported_pipeline, open(\"/content/drive/My Drive/pkl_of_exported_pipeline.pkl\", \"wb\"))\n",
        "\n",
        "pickle.dump(exported_pipeline, open(\"pkl_of_exported_pipeline.pkl\", \"wb\"))"
      ],
      "execution_count": null,
      "outputs": []
    },
    {
      "cell_type": "markdown",
      "metadata": {
        "id": "OfO2wJHNyxOK",
        "colab_type": "text"
      },
      "source": [
        "### load pkl"
      ]
    },
    {
      "cell_type": "code",
      "metadata": {
        "id": "EPz_a2YryWra",
        "colab_type": "code",
        "colab": {}
      },
      "source": [
        "loaded_pkl = pickle.load(open(\"pkl_of_exported_pipeline.pkl\", \"rb\"))"
      ],
      "execution_count": null,
      "outputs": []
    },
    {
      "cell_type": "markdown",
      "metadata": {
        "id": "k3bdTnl2zJAB",
        "colab_type": "text"
      },
      "source": [
        "and now let's run the same evaluation functions as the exported_pipeline model"
      ]
    },
    {
      "cell_type": "code",
      "metadata": {
        "id": "dmpWG96PzHOR",
        "colab_type": "code",
        "colab": {
          "base_uri": "https://localhost:8080/",
          "height": 119
        },
        "outputId": "6ed64fa0-ac54-4d54-8bc8-57473fd698f9"
      },
      "source": [
        "pkl_results = loaded_pkl.predict(testing_features)\n",
        "pkl_results"
      ],
      "execution_count": null,
      "outputs": [
        {
          "output_type": "execute_result",
          "data": {
            "text/plain": [
              "array([0, 1, 1, 0, 0, 1, 1, 1, 1, 0, 0, 1, 0, 0, 0, 1, 0, 0, 0, 1, 1, 0,\n",
              "       1, 0, 0, 0, 0, 0, 0, 1, 0, 0, 0, 0, 0, 0, 1, 0, 1, 0, 0, 1, 0, 0,\n",
              "       0, 0, 0, 0, 0, 0, 1, 1, 0, 0, 0, 0, 0, 1, 1, 0, 0, 1, 1, 0, 0, 0,\n",
              "       1, 1, 0, 0, 1, 1, 0, 1, 0, 0, 0, 1, 0, 0, 1, 0, 0, 1, 1, 1, 1, 1,\n",
              "       0, 0, 0, 0, 0, 0, 0, 0, 1, 1, 0, 1, 1, 0, 1, 1, 0, 0, 0, 1, 1, 0,\n",
              "       1, 0, 0, 1])"
            ]
          },
          "metadata": {
            "tags": []
          },
          "execution_count": 86
        }
      ]
    },
    {
      "cell_type": "code",
      "metadata": {
        "id": "pskJK-oK02tv",
        "colab_type": "code",
        "colab": {
          "base_uri": "https://localhost:8080/",
          "height": 34
        },
        "outputId": "7674c48b-e9ad-4a3e-f53e-065bfa942a4b"
      },
      "source": [
        "len(pkl_results)"
      ],
      "execution_count": null,
      "outputs": [
        {
          "output_type": "execute_result",
          "data": {
            "text/plain": [
              "114"
            ]
          },
          "metadata": {
            "tags": []
          },
          "execution_count": 89
        }
      ]
    },
    {
      "cell_type": "code",
      "metadata": {
        "id": "1HpQiUOl2swT",
        "colab_type": "code",
        "colab": {
          "base_uri": "https://localhost:8080/",
          "height": 119
        },
        "outputId": "c4f6ab20-e8c9-41ec-b69a-27e36f7a28fe"
      },
      "source": [
        "results"
      ],
      "execution_count": null,
      "outputs": [
        {
          "output_type": "execute_result",
          "data": {
            "text/plain": [
              "array([0, 1, 1, 0, 0, 1, 1, 1, 1, 0, 0, 1, 0, 0, 0, 1, 0, 0, 0, 1, 1, 0,\n",
              "       1, 0, 0, 0, 0, 0, 0, 1, 0, 0, 0, 0, 0, 0, 1, 0, 1, 0, 0, 1, 0, 0,\n",
              "       0, 0, 0, 0, 0, 0, 1, 1, 0, 0, 0, 0, 0, 1, 1, 0, 0, 1, 1, 0, 0, 0,\n",
              "       1, 1, 0, 0, 1, 1, 0, 1, 0, 0, 0, 1, 0, 0, 1, 0, 0, 1, 1, 1, 1, 1,\n",
              "       0, 0, 0, 0, 0, 0, 0, 0, 1, 1, 0, 1, 1, 0, 1, 1, 0, 0, 0, 1, 1, 0,\n",
              "       1, 0, 0, 1])"
            ]
          },
          "metadata": {
            "tags": []
          },
          "execution_count": 103
        }
      ]
    },
    {
      "cell_type": "code",
      "metadata": {
        "id": "pHhzMPsb2u00",
        "colab_type": "code",
        "colab": {
          "base_uri": "https://localhost:8080/",
          "height": 34
        },
        "outputId": "05372de9-db65-435e-e6cd-a12c6fd79549"
      },
      "source": [
        "len(results)"
      ],
      "execution_count": null,
      "outputs": [
        {
          "output_type": "execute_result",
          "data": {
            "text/plain": [
              "114"
            ]
          },
          "metadata": {
            "tags": []
          },
          "execution_count": 104
        }
      ]
    },
    {
      "cell_type": "code",
      "metadata": {
        "id": "W2ghlVFg0ax4",
        "colab_type": "code",
        "colab": {
          "base_uri": "https://localhost:8080/",
          "height": 34
        },
        "outputId": "47cea0c5-eacf-4fbd-c3ef-b1ef050d27af"
      },
      "source": [
        "#checking if 'pkl_results' are the same as 'results' (from the model before exporting)\n",
        "\n",
        "# if results == pkl_results:\n",
        "#   print(\"the models exported right!\")\n",
        "\n",
        "np.array_equal(results, pkl_results)"
      ],
      "execution_count": null,
      "outputs": [
        {
          "output_type": "execute_result",
          "data": {
            "text/plain": [
              "True"
            ]
          },
          "metadata": {
            "tags": []
          },
          "execution_count": 102
        }
      ]
    },
    {
      "cell_type": "markdown",
      "metadata": {
        "id": "fA76Aoih26DE",
        "colab_type": "text"
      },
      "source": [
        "## Alright! We're done! 💯 You can now use this pkl file to make predictions\n",
        "\n"
      ]
    },
    {
      "cell_type": "code",
      "metadata": {
        "id": "8QNlQYPZ0yT_",
        "colab_type": "code",
        "colab": {}
      },
      "source": [
        ""
      ],
      "execution_count": null,
      "outputs": []
    }
  ]
}